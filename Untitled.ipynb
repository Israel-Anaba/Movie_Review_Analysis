{
 "cells": [
  {
   "cell_type": "code",
   "execution_count": null,
   "id": "ec14aacd",
   "metadata": {},
   "outputs": [],
   "source": [
    "# !pip install spacy\n",
    "# !pip install"
   ]
  },
  {
   "cell_type": "code",
   "execution_count": 34,
   "id": "3ab5556a",
   "metadata": {},
   "outputs": [],
   "source": [
    "import numpy as np\n",
    "import pandas as pd\n",
    "import matplotlib.pyplot as plt\n",
    "import seaborn as sns\n",
    "import spacy\n",
    "import string\n",
    "import pickle\n",
    "import os\n",
    "import shutil\n",
    "from spacy.lang.en.stop_words import STOP_WORDS\n",
    "from spacy.lang.en import English\n",
    "from sklearn.feature_extraction.text import CountVectorizer,TfidfVectorizer\n",
    "from sklearn.metrics import accuracy_score, confusion_matrix, classification_report\n",
    "from sklearn.base import TransformerMixin \n",
    "from sklearn.naive_bayes import MultinomialNB\n",
    "from sklearn.svm import LinearSVC\n",
    "from sklearn.linear_model import LogisticRegression\n",
    "from sklearn.ensemble import RandomForestClassifier\n",
    "from sklearn.model_selection import train_test_split"
   ]
  },
  {
   "cell_type": "code",
   "execution_count": 2,
   "id": "607bd18d",
   "metadata": {},
   "outputs": [],
   "source": [
    "data=pd.read_csv('C:Assets\\Train.csv')"
   ]
  },
  {
   "cell_type": "code",
   "execution_count": 3,
   "id": "142ef8a7",
   "metadata": {},
   "outputs": [
    {
     "data": {
      "text/html": [
       "<div>\n",
       "<style scoped>\n",
       "    .dataframe tbody tr th:only-of-type {\n",
       "        vertical-align: middle;\n",
       "    }\n",
       "\n",
       "    .dataframe tbody tr th {\n",
       "        vertical-align: top;\n",
       "    }\n",
       "\n",
       "    .dataframe thead th {\n",
       "        text-align: right;\n",
       "    }\n",
       "</style>\n",
       "<table border=\"1\" class=\"dataframe\">\n",
       "  <thead>\n",
       "    <tr style=\"text-align: right;\">\n",
       "      <th></th>\n",
       "      <th>review_file</th>\n",
       "      <th>content</th>\n",
       "      <th>sentiment</th>\n",
       "    </tr>\n",
       "  </thead>\n",
       "  <tbody>\n",
       "    <tr>\n",
       "      <th>0</th>\n",
       "      <td>3471_8.txt</td>\n",
       "      <td>Recently shown on cable tv the movie opens wit...</td>\n",
       "      <td>positive</td>\n",
       "    </tr>\n",
       "    <tr>\n",
       "      <th>1</th>\n",
       "      <td>9693_8.txt</td>\n",
       "      <td>I was very surprised with this film. I was tou...</td>\n",
       "      <td>positive</td>\n",
       "    </tr>\n",
       "    <tr>\n",
       "      <th>2</th>\n",
       "      <td>10801_1.txt</td>\n",
       "      <td>Now, I'm one to watch movies that got poor rev...</td>\n",
       "      <td>negative</td>\n",
       "    </tr>\n",
       "    <tr>\n",
       "      <th>3</th>\n",
       "      <td>9592_8.txt</td>\n",
       "      <td>This film came out 12 years years ago, and was...</td>\n",
       "      <td>positive</td>\n",
       "    </tr>\n",
       "    <tr>\n",
       "      <th>4</th>\n",
       "      <td>8514_7.txt</td>\n",
       "      <td>When an orphanage manager goes on vacation, hi...</td>\n",
       "      <td>positive</td>\n",
       "    </tr>\n",
       "    <tr>\n",
       "      <th>...</th>\n",
       "      <td>...</td>\n",
       "      <td>...</td>\n",
       "      <td>...</td>\n",
       "    </tr>\n",
       "    <tr>\n",
       "      <th>24995</th>\n",
       "      <td>2791_3.txt</td>\n",
       "      <td>As with most of the reviewers, I saw this on S...</td>\n",
       "      <td>negative</td>\n",
       "    </tr>\n",
       "    <tr>\n",
       "      <th>24996</th>\n",
       "      <td>644_9.txt</td>\n",
       "      <td>A have a female friend who is currently being ...</td>\n",
       "      <td>positive</td>\n",
       "    </tr>\n",
       "    <tr>\n",
       "      <th>24997</th>\n",
       "      <td>4921_8.txt</td>\n",
       "      <td>Like A Streetcar Named Desire (also directed b...</td>\n",
       "      <td>positive</td>\n",
       "    </tr>\n",
       "    <tr>\n",
       "      <th>24998</th>\n",
       "      <td>5791_1.txt</td>\n",
       "      <td>As a Native film professor, I can honestly say...</td>\n",
       "      <td>negative</td>\n",
       "    </tr>\n",
       "    <tr>\n",
       "      <th>24999</th>\n",
       "      <td>8997_10.txt</td>\n",
       "      <td>I've seen this movie on several different occa...</td>\n",
       "      <td>positive</td>\n",
       "    </tr>\n",
       "  </tbody>\n",
       "</table>\n",
       "<p>25000 rows × 3 columns</p>\n",
       "</div>"
      ],
      "text/plain": [
       "       review_file                                            content  \\\n",
       "0       3471_8.txt  Recently shown on cable tv the movie opens wit...   \n",
       "1       9693_8.txt  I was very surprised with this film. I was tou...   \n",
       "2      10801_1.txt  Now, I'm one to watch movies that got poor rev...   \n",
       "3       9592_8.txt  This film came out 12 years years ago, and was...   \n",
       "4       8514_7.txt  When an orphanage manager goes on vacation, hi...   \n",
       "...            ...                                                ...   \n",
       "24995   2791_3.txt  As with most of the reviewers, I saw this on S...   \n",
       "24996    644_9.txt  A have a female friend who is currently being ...   \n",
       "24997   4921_8.txt  Like A Streetcar Named Desire (also directed b...   \n",
       "24998   5791_1.txt  As a Native film professor, I can honestly say...   \n",
       "24999  8997_10.txt  I've seen this movie on several different occa...   \n",
       "\n",
       "      sentiment  \n",
       "0      positive  \n",
       "1      positive  \n",
       "2      negative  \n",
       "3      positive  \n",
       "4      positive  \n",
       "...         ...  \n",
       "24995  negative  \n",
       "24996  positive  \n",
       "24997  positive  \n",
       "24998  negative  \n",
       "24999  positive  \n",
       "\n",
       "[25000 rows x 3 columns]"
      ]
     },
     "execution_count": 3,
     "metadata": {},
     "output_type": "execute_result"
    }
   ],
   "source": [
    "data"
   ]
  },
  {
   "cell_type": "code",
   "execution_count": 4,
   "id": "5334be8a",
   "metadata": {},
   "outputs": [
    {
     "data": {
      "text/plain": [
       "(25000, 3)"
      ]
     },
     "execution_count": 4,
     "metadata": {},
     "output_type": "execute_result"
    }
   ],
   "source": [
    "data.shape"
   ]
  },
  {
   "cell_type": "code",
   "execution_count": 5,
   "id": "f1ffe8cd",
   "metadata": {},
   "outputs": [
    {
     "data": {
      "text/plain": [
       "<bound method DataFrame.info of        review_file                                            content  \\\n",
       "0       3471_8.txt  Recently shown on cable tv the movie opens wit...   \n",
       "1       9693_8.txt  I was very surprised with this film. I was tou...   \n",
       "2      10801_1.txt  Now, I'm one to watch movies that got poor rev...   \n",
       "3       9592_8.txt  This film came out 12 years years ago, and was...   \n",
       "4       8514_7.txt  When an orphanage manager goes on vacation, hi...   \n",
       "...            ...                                                ...   \n",
       "24995   2791_3.txt  As with most of the reviewers, I saw this on S...   \n",
       "24996    644_9.txt  A have a female friend who is currently being ...   \n",
       "24997   4921_8.txt  Like A Streetcar Named Desire (also directed b...   \n",
       "24998   5791_1.txt  As a Native film professor, I can honestly say...   \n",
       "24999  8997_10.txt  I've seen this movie on several different occa...   \n",
       "\n",
       "      sentiment  \n",
       "0      positive  \n",
       "1      positive  \n",
       "2      negative  \n",
       "3      positive  \n",
       "4      positive  \n",
       "...         ...  \n",
       "24995  negative  \n",
       "24996  positive  \n",
       "24997  positive  \n",
       "24998  negative  \n",
       "24999  positive  \n",
       "\n",
       "[25000 rows x 3 columns]>"
      ]
     },
     "execution_count": 5,
     "metadata": {},
     "output_type": "execute_result"
    }
   ],
   "source": [
    "data.info"
   ]
  },
  {
   "cell_type": "code",
   "execution_count": 6,
   "id": "814551ce",
   "metadata": {},
   "outputs": [
    {
     "data": {
      "text/plain": [
       "<bound method NDFrame.describe of        review_file                                            content  \\\n",
       "0       3471_8.txt  Recently shown on cable tv the movie opens wit...   \n",
       "1       9693_8.txt  I was very surprised with this film. I was tou...   \n",
       "2      10801_1.txt  Now, I'm one to watch movies that got poor rev...   \n",
       "3       9592_8.txt  This film came out 12 years years ago, and was...   \n",
       "4       8514_7.txt  When an orphanage manager goes on vacation, hi...   \n",
       "...            ...                                                ...   \n",
       "24995   2791_3.txt  As with most of the reviewers, I saw this on S...   \n",
       "24996    644_9.txt  A have a female friend who is currently being ...   \n",
       "24997   4921_8.txt  Like A Streetcar Named Desire (also directed b...   \n",
       "24998   5791_1.txt  As a Native film professor, I can honestly say...   \n",
       "24999  8997_10.txt  I've seen this movie on several different occa...   \n",
       "\n",
       "      sentiment  \n",
       "0      positive  \n",
       "1      positive  \n",
       "2      negative  \n",
       "3      positive  \n",
       "4      positive  \n",
       "...         ...  \n",
       "24995  negative  \n",
       "24996  positive  \n",
       "24997  positive  \n",
       "24998  negative  \n",
       "24999  positive  \n",
       "\n",
       "[25000 rows x 3 columns]>"
      ]
     },
     "execution_count": 6,
     "metadata": {},
     "output_type": "execute_result"
    }
   ],
   "source": [
    "data.describe"
   ]
  },
  {
   "cell_type": "code",
   "execution_count": 7,
   "id": "8d46ba20",
   "metadata": {},
   "outputs": [
    {
     "data": {
      "text/plain": [
       "review_file    0\n",
       "content        0\n",
       "sentiment      0\n",
       "dtype: int64"
      ]
     },
     "execution_count": 7,
     "metadata": {},
     "output_type": "execute_result"
    }
   ],
   "source": [
    "data.isna().sum()"
   ]
  },
  {
   "cell_type": "code",
   "execution_count": 8,
   "id": "1508accc",
   "metadata": {},
   "outputs": [
    {
     "name": "stdout",
     "output_type": "stream",
     "text": [
      "Columns Names: ['review_file', 'content', 'sentiment']\n"
     ]
    }
   ],
   "source": [
    "print(f'Columns Names: {list(data.columns)}')"
   ]
  },
  {
   "cell_type": "code",
   "execution_count": 9,
   "id": "932b793a",
   "metadata": {},
   "outputs": [],
   "source": [
    "data1=pd.read_csv('C:Assets\\Test.csv')"
   ]
  },
  {
   "cell_type": "code",
   "execution_count": 10,
   "id": "f50eb64c",
   "metadata": {},
   "outputs": [
    {
     "data": {
      "text/html": [
       "<div>\n",
       "<style scoped>\n",
       "    .dataframe tbody tr th:only-of-type {\n",
       "        vertical-align: middle;\n",
       "    }\n",
       "\n",
       "    .dataframe tbody tr th {\n",
       "        vertical-align: top;\n",
       "    }\n",
       "\n",
       "    .dataframe thead th {\n",
       "        text-align: right;\n",
       "    }\n",
       "</style>\n",
       "<table border=\"1\" class=\"dataframe\">\n",
       "  <thead>\n",
       "    <tr style=\"text-align: right;\">\n",
       "      <th></th>\n",
       "      <th>review_file</th>\n",
       "      <th>content</th>\n",
       "    </tr>\n",
       "  </thead>\n",
       "  <tbody>\n",
       "    <tr>\n",
       "      <th>0</th>\n",
       "      <td>0_10.txt</td>\n",
       "      <td>I went and saw this movie last night after bei...</td>\n",
       "    </tr>\n",
       "    <tr>\n",
       "      <th>1</th>\n",
       "      <td>0_2.txt</td>\n",
       "      <td>Once again Mr. Costner has dragged out a movie...</td>\n",
       "    </tr>\n",
       "    <tr>\n",
       "      <th>2</th>\n",
       "      <td>10000_4.txt</td>\n",
       "      <td>This is an example of why the majority of acti...</td>\n",
       "    </tr>\n",
       "    <tr>\n",
       "      <th>3</th>\n",
       "      <td>10000_7.txt</td>\n",
       "      <td>Actor turned director Bill Paxton follows up h...</td>\n",
       "    </tr>\n",
       "    <tr>\n",
       "      <th>4</th>\n",
       "      <td>10001_1.txt</td>\n",
       "      <td>First of all I hate those moronic rappers, who...</td>\n",
       "    </tr>\n",
       "    <tr>\n",
       "      <th>...</th>\n",
       "      <td>...</td>\n",
       "      <td>...</td>\n",
       "    </tr>\n",
       "    <tr>\n",
       "      <th>24995</th>\n",
       "      <td>999_8.txt</td>\n",
       "      <td>From the start of \"The Edge Of Love\", the view...</td>\n",
       "    </tr>\n",
       "    <tr>\n",
       "      <th>24996</th>\n",
       "      <td>99_10.txt</td>\n",
       "      <td>This movie, with all its complexity and subtle...</td>\n",
       "    </tr>\n",
       "    <tr>\n",
       "      <th>24997</th>\n",
       "      <td>99_3.txt</td>\n",
       "      <td>Four things intrigued me as to this film - fir...</td>\n",
       "    </tr>\n",
       "    <tr>\n",
       "      <th>24998</th>\n",
       "      <td>9_4.txt</td>\n",
       "      <td>David Bryce's comments nearby are exceptionall...</td>\n",
       "    </tr>\n",
       "    <tr>\n",
       "      <th>24999</th>\n",
       "      <td>9_7.txt</td>\n",
       "      <td>I've seen this story before but my kids haven'...</td>\n",
       "    </tr>\n",
       "  </tbody>\n",
       "</table>\n",
       "<p>25000 rows × 2 columns</p>\n",
       "</div>"
      ],
      "text/plain": [
       "       review_file                                            content\n",
       "0         0_10.txt  I went and saw this movie last night after bei...\n",
       "1          0_2.txt  Once again Mr. Costner has dragged out a movie...\n",
       "2      10000_4.txt  This is an example of why the majority of acti...\n",
       "3      10000_7.txt  Actor turned director Bill Paxton follows up h...\n",
       "4      10001_1.txt  First of all I hate those moronic rappers, who...\n",
       "...            ...                                                ...\n",
       "24995    999_8.txt  From the start of \"The Edge Of Love\", the view...\n",
       "24996    99_10.txt  This movie, with all its complexity and subtle...\n",
       "24997     99_3.txt  Four things intrigued me as to this film - fir...\n",
       "24998      9_4.txt  David Bryce's comments nearby are exceptionall...\n",
       "24999      9_7.txt  I've seen this story before but my kids haven'...\n",
       "\n",
       "[25000 rows x 2 columns]"
      ]
     },
     "execution_count": 10,
     "metadata": {},
     "output_type": "execute_result"
    }
   ],
   "source": [
    "data1"
   ]
  },
  {
   "cell_type": "code",
   "execution_count": 11,
   "id": "52130b79",
   "metadata": {},
   "outputs": [
    {
     "data": {
      "text/plain": [
       "<bound method DataFrame.info of        review_file                                            content  \\\n",
       "0       3471_8.txt  Recently shown on cable tv the movie opens wit...   \n",
       "1       9693_8.txt  I was very surprised with this film. I was tou...   \n",
       "2      10801_1.txt  Now, I'm one to watch movies that got poor rev...   \n",
       "3       9592_8.txt  This film came out 12 years years ago, and was...   \n",
       "4       8514_7.txt  When an orphanage manager goes on vacation, hi...   \n",
       "...            ...                                                ...   \n",
       "24995   2791_3.txt  As with most of the reviewers, I saw this on S...   \n",
       "24996    644_9.txt  A have a female friend who is currently being ...   \n",
       "24997   4921_8.txt  Like A Streetcar Named Desire (also directed b...   \n",
       "24998   5791_1.txt  As a Native film professor, I can honestly say...   \n",
       "24999  8997_10.txt  I've seen this movie on several different occa...   \n",
       "\n",
       "      sentiment  \n",
       "0      positive  \n",
       "1      positive  \n",
       "2      negative  \n",
       "3      positive  \n",
       "4      positive  \n",
       "...         ...  \n",
       "24995  negative  \n",
       "24996  positive  \n",
       "24997  positive  \n",
       "24998  negative  \n",
       "24999  positive  \n",
       "\n",
       "[25000 rows x 3 columns]>"
      ]
     },
     "execution_count": 11,
     "metadata": {},
     "output_type": "execute_result"
    }
   ],
   "source": [
    "data.info"
   ]
  },
  {
   "cell_type": "code",
   "execution_count": 12,
   "id": "b059deaf",
   "metadata": {},
   "outputs": [],
   "source": [
    "data.rename(columns={'content': 'review'}, inplace=True)"
   ]
  },
  {
   "cell_type": "code",
   "execution_count": 14,
   "id": "b3f39bf0",
   "metadata": {},
   "outputs": [],
   "source": [
    "data.drop('review_file', axis=1, inplace=True)"
   ]
  },
  {
   "cell_type": "code",
   "execution_count": 15,
   "id": "3c5e2e9f",
   "metadata": {},
   "outputs": [
    {
     "data": {
      "text/html": [
       "<div>\n",
       "<style scoped>\n",
       "    .dataframe tbody tr th:only-of-type {\n",
       "        vertical-align: middle;\n",
       "    }\n",
       "\n",
       "    .dataframe tbody tr th {\n",
       "        vertical-align: top;\n",
       "    }\n",
       "\n",
       "    .dataframe thead th {\n",
       "        text-align: right;\n",
       "    }\n",
       "</style>\n",
       "<table border=\"1\" class=\"dataframe\">\n",
       "  <thead>\n",
       "    <tr style=\"text-align: right;\">\n",
       "      <th></th>\n",
       "      <th>review</th>\n",
       "      <th>sentiment</th>\n",
       "    </tr>\n",
       "  </thead>\n",
       "  <tbody>\n",
       "    <tr>\n",
       "      <th>0</th>\n",
       "      <td>Recently shown on cable tv the movie opens wit...</td>\n",
       "      <td>positive</td>\n",
       "    </tr>\n",
       "    <tr>\n",
       "      <th>1</th>\n",
       "      <td>I was very surprised with this film. I was tou...</td>\n",
       "      <td>positive</td>\n",
       "    </tr>\n",
       "    <tr>\n",
       "      <th>2</th>\n",
       "      <td>Now, I'm one to watch movies that got poor rev...</td>\n",
       "      <td>negative</td>\n",
       "    </tr>\n",
       "    <tr>\n",
       "      <th>3</th>\n",
       "      <td>This film came out 12 years years ago, and was...</td>\n",
       "      <td>positive</td>\n",
       "    </tr>\n",
       "    <tr>\n",
       "      <th>4</th>\n",
       "      <td>When an orphanage manager goes on vacation, hi...</td>\n",
       "      <td>positive</td>\n",
       "    </tr>\n",
       "    <tr>\n",
       "      <th>...</th>\n",
       "      <td>...</td>\n",
       "      <td>...</td>\n",
       "    </tr>\n",
       "    <tr>\n",
       "      <th>24995</th>\n",
       "      <td>As with most of the reviewers, I saw this on S...</td>\n",
       "      <td>negative</td>\n",
       "    </tr>\n",
       "    <tr>\n",
       "      <th>24996</th>\n",
       "      <td>A have a female friend who is currently being ...</td>\n",
       "      <td>positive</td>\n",
       "    </tr>\n",
       "    <tr>\n",
       "      <th>24997</th>\n",
       "      <td>Like A Streetcar Named Desire (also directed b...</td>\n",
       "      <td>positive</td>\n",
       "    </tr>\n",
       "    <tr>\n",
       "      <th>24998</th>\n",
       "      <td>As a Native film professor, I can honestly say...</td>\n",
       "      <td>negative</td>\n",
       "    </tr>\n",
       "    <tr>\n",
       "      <th>24999</th>\n",
       "      <td>I've seen this movie on several different occa...</td>\n",
       "      <td>positive</td>\n",
       "    </tr>\n",
       "  </tbody>\n",
       "</table>\n",
       "<p>25000 rows × 2 columns</p>\n",
       "</div>"
      ],
      "text/plain": [
       "                                                  review sentiment\n",
       "0      Recently shown on cable tv the movie opens wit...  positive\n",
       "1      I was very surprised with this film. I was tou...  positive\n",
       "2      Now, I'm one to watch movies that got poor rev...  negative\n",
       "3      This film came out 12 years years ago, and was...  positive\n",
       "4      When an orphanage manager goes on vacation, hi...  positive\n",
       "...                                                  ...       ...\n",
       "24995  As with most of the reviewers, I saw this on S...  negative\n",
       "24996  A have a female friend who is currently being ...  positive\n",
       "24997  Like A Streetcar Named Desire (also directed b...  positive\n",
       "24998  As a Native film professor, I can honestly say...  negative\n",
       "24999  I've seen this movie on several different occa...  positive\n",
       "\n",
       "[25000 rows x 2 columns]"
      ]
     },
     "execution_count": 15,
     "metadata": {},
     "output_type": "execute_result"
    }
   ],
   "source": [
    "data"
   ]
  },
  {
   "cell_type": "code",
   "execution_count": 22,
   "id": "96dc98e1",
   "metadata": {},
   "outputs": [],
   "source": [
    "# Load spaCy\n",
    "nlp = spacy.load(\"en_core_web_sm\")\n",
    "stopwords = list(nlp.Defaults.stop_words)\n",
    "punctuations = string.punctuation"
   ]
  },
  {
   "cell_type": "code",
   "execution_count": 21,
   "id": "b4a748ad",
   "metadata": {},
   "outputs": [],
   "source": [
    "# !python -m spacy download en_core_web_sm"
   ]
  },
  {
   "cell_type": "code",
   "execution_count": 23,
   "id": "94d00807",
   "metadata": {},
   "outputs": [],
   "source": [
    "# Preprocess the text before splitting\n",
    "data['review'] = data['review'].apply(lambda text: text.strip().lower())"
   ]
  },
  {
   "cell_type": "code",
   "execution_count": 24,
   "id": "bf08dc13",
   "metadata": {},
   "outputs": [],
   "source": [
    "# Split the data into training and testing sets\n",
    "X = data['review']\n",
    "y = data['sentiment']"
   ]
  },
  {
   "cell_type": "code",
   "execution_count": 25,
   "id": "a57e91b0",
   "metadata": {},
   "outputs": [],
   "source": [
    "X_train, X_test, y_train, y_test = train_test_split(X, y, test_size=0.2, random_state=42)"
   ]
  },
  {
   "cell_type": "code",
   "execution_count": 26,
   "id": "54a0ef3b",
   "metadata": {},
   "outputs": [],
   "source": [
    "# Tokenization, stopwords removal, and punctuation removal using spaCy\n",
    "def process_text(text):\n",
    "    doc = nlp(text)\n",
    "    tokens = [token.text for token in doc if token.text not in stopwords and token.text not in punctuations]\n",
    "    return ' '.join(tokens)"
   ]
  },
  {
   "cell_type": "code",
   "execution_count": 27,
   "id": "7389b799",
   "metadata": {},
   "outputs": [],
   "source": [
    "X_train = X_train.apply(process_text)\n",
    "X_test = X_test.apply(process_text)"
   ]
  },
  {
   "cell_type": "code",
   "execution_count": 28,
   "id": "61b98f98",
   "metadata": {},
   "outputs": [],
   "source": [
    "# Text vectorization using TF-IDF\n",
    "tfidf_vectorizer = TfidfVectorizer(max_features=5000)  # You can adjust the max_features\n",
    "X_train_tfidf = tfidf_vectorizer.fit_transform(X_train)\n",
    "X_test_tfidf = tfidf_vectorizer.transform(X_test)"
   ]
  },
  {
   "cell_type": "code",
   "execution_count": 31,
   "id": "7d44a472",
   "metadata": {},
   "outputs": [
    {
     "name": "stdout",
     "output_type": "stream",
     "text": [
      "Classification Report:\n",
      "              precision    recall  f1-score   support\n",
      "\n",
      "    negative       0.86      0.85      0.86      2521\n",
      "    positive       0.85      0.86      0.85      2479\n",
      "\n",
      "    accuracy                           0.85      5000\n",
      "   macro avg       0.85      0.86      0.85      5000\n",
      "weighted avg       0.86      0.85      0.86      5000\n",
      "\n",
      "Accuracy Score: 0.85\n"
     ]
    }
   ],
   "source": [
    "# Train a sentiment classifier (Naive Bayes is just one example)\n",
    "classifier = MultinomialNB()\n",
    "classifier.fit(X_train_tfidf, y_train)\n",
    "\n",
    "# Make predictions on the test set\n",
    "y_pred = classifier.predict(X_test_tfidf)\n",
    "\n",
    "# Print the classification report\n",
    "class_report = classification_report(y_test, y_pred)\n",
    "print(\"Classification Report:\")\n",
    "print(class_report)\n",
    "\n",
    "# Calculate and print the accuracy score\n",
    "accuracy = accuracy_score(y_test, y_pred)\n",
    "print(f\"Accuracy Score: {accuracy:.2f}\")"
   ]
  },
  {
   "cell_type": "code",
   "execution_count": 33,
   "id": "7d017df6",
   "metadata": {},
   "outputs": [
    {
     "name": "stdout",
     "output_type": "stream",
     "text": [
      "Confusion Matrix:\n",
      "[[2153  368]\n",
      " [ 357 2122]]\n"
     ]
    },
    {
     "data": {
      "image/png": "[encoded data removed]",
      "text/plain": [
       "<Figure size 800x600 with 2 Axes>"
      ]
     },
     "metadata": {},
     "output_type": "display_data"
    }
   ],
   "source": [
    "# Train a sentiment classifier (Naive Bayes is just one example)\n",
    "classifier = MultinomialNB()\n",
    "classifier.fit(X_train_tfidf, y_train)\n",
    "\n",
    "# Make predictions on the test set\n",
    "y_pred = classifier.predict(X_test_tfidf)\n",
    "\n",
    "# Calculate the confusion matrix\n",
    "conf_matrix = confusion_matrix(y_test, y_pred)\n",
    "\n",
    "# Print the confusion matrix\n",
    "print(\"Confusion Matrix:\")\n",
    "print(conf_matrix)\n",
    "\n",
    "# Visualize the confusion matrix \n",
    "plt.figure(figsize=(8, 6))\n",
    "sns.heatmap(conf_matrix, annot=True, fmt='d', cmap=\"Blues\", xticklabels=['Negative', 'Positive'], yticklabels=['Negative', 'Positive'])\n",
    "plt.xlabel('Predicted')\n",
    "plt.ylabel('Actual')\n",
    "plt.show()"
   ]
  },
  {
   "cell_type": "code",
   "execution_count": 36,
   "id": "a1f9f745",
   "metadata": {},
   "outputs": [],
   "source": [
    "# Create a dictionary to store the components and model\n",
    "components_dict = {\n",
    "    'cleaner': process_text,\n",
    "    'cleaner_tfidf_vectorizer': tfidf_vectorizer,\n",
    "    'cleaner_classifier': classifier\n",
    "}"
   ]
  },
  {
   "cell_type": "code",
   "execution_count": 37,
   "id": "118fb903",
   "metadata": {},
   "outputs": [],
   "source": [
    "# Create a folder to store the exported data\n",
    "folder_name = 'comp_folder'\n",
    "os.makedirs(folder_name, exist_ok=True)"
   ]
  },
  {
   "cell_type": "code",
   "execution_count": 38,
   "id": "548f1c35",
   "metadata": {},
   "outputs": [],
   "source": [
    "# Export the components and model\n",
    "components_path = os.path.join(folder_name, 'sentiment_components.pkl')\n",
    "with open(components_path, 'wb') as file:\n",
    "    pickle.dump(components_dict, file)"
   ]
  },
  {
   "cell_type": "code",
   "execution_count": 39,
   "id": "5eb006ba",
   "metadata": {},
   "outputs": [
    {
     "data": {
      "text/plain": [
       "0"
      ]
     },
     "execution_count": 39,
     "metadata": {},
     "output_type": "execute_result"
    }
   ],
   "source": [
    "# Generate the requirements.txt file\n",
    "requirements_file = 'requirements.txt'\n",
    "os.system(f'pip freeze > {os.path.join(folder_name, requirements_file)}')"
   ]
  },
  {
   "cell_type": "code",
   "execution_count": 40,
   "id": "8bdd8d40",
   "metadata": {},
   "outputs": [
    {
     "name": "stdout",
     "output_type": "stream",
     "text": [
      "Exported data has been zipped.\n"
     ]
    }
   ],
   "source": [
    "# Zip the exported data folder\n",
    "shutil.make_archive('exported_data', 'zip', 'exported_comp_folder')\n",
    "\n",
    "print(\"Exported data has been zipped.\")"
   ]
  },
  {
   "cell_type": "markdown",
   "id": "d26fa9a3",
   "metadata": {},
   "source": [
    "### Test Data"
   ]
  },
  {
   "cell_type": "code",
   "execution_count": 43,
   "id": "2ae6187a",
   "metadata": {},
   "outputs": [],
   "source": [
    "# Load the exported components from the file\n",
    "components_path = 'comp_folder/sentiment_components.pkl'\n",
    "with open(components_path, 'rb') as file:\n",
    "    components_dict = pickle.load(file)"
   ]
  },
  {
   "cell_type": "code",
   "execution_count": 44,
   "id": "58eaecee",
   "metadata": {},
   "outputs": [],
   "source": [
    "# Extract the loaded components\n",
    "loaded_cleaner = components_dict['cleaner']\n",
    "loaded_vectorizer = components_dict['cleaner_tfidf_vectorizer']\n",
    "loaded_classifier = components_dict['cleaner_classifier']"
   ]
  },
  {
   "cell_type": "code",
   "execution_count": 45,
   "id": "2c647b58",
   "metadata": {},
   "outputs": [
    {
     "data": {
      "text/html": [
       "<div>\n",
       "<style scoped>\n",
       "    .dataframe tbody tr th:only-of-type {\n",
       "        vertical-align: middle;\n",
       "    }\n",
       "\n",
       "    .dataframe tbody tr th {\n",
       "        vertical-align: top;\n",
       "    }\n",
       "\n",
       "    .dataframe thead th {\n",
       "        text-align: right;\n",
       "    }\n",
       "</style>\n",
       "<table border=\"1\" class=\"dataframe\">\n",
       "  <thead>\n",
       "    <tr style=\"text-align: right;\">\n",
       "      <th></th>\n",
       "      <th>review_file</th>\n",
       "      <th>content</th>\n",
       "    </tr>\n",
       "  </thead>\n",
       "  <tbody>\n",
       "    <tr>\n",
       "      <th>0</th>\n",
       "      <td>0_10.txt</td>\n",
       "      <td>I went and saw this movie last night after bei...</td>\n",
       "    </tr>\n",
       "    <tr>\n",
       "      <th>1</th>\n",
       "      <td>0_2.txt</td>\n",
       "      <td>Once again Mr. Costner has dragged out a movie...</td>\n",
       "    </tr>\n",
       "    <tr>\n",
       "      <th>2</th>\n",
       "      <td>10000_4.txt</td>\n",
       "      <td>This is an example of why the majority of acti...</td>\n",
       "    </tr>\n",
       "    <tr>\n",
       "      <th>3</th>\n",
       "      <td>10000_7.txt</td>\n",
       "      <td>Actor turned director Bill Paxton follows up h...</td>\n",
       "    </tr>\n",
       "    <tr>\n",
       "      <th>4</th>\n",
       "      <td>10001_1.txt</td>\n",
       "      <td>First of all I hate those moronic rappers, who...</td>\n",
       "    </tr>\n",
       "    <tr>\n",
       "      <th>...</th>\n",
       "      <td>...</td>\n",
       "      <td>...</td>\n",
       "    </tr>\n",
       "    <tr>\n",
       "      <th>24995</th>\n",
       "      <td>999_8.txt</td>\n",
       "      <td>From the start of \"The Edge Of Love\", the view...</td>\n",
       "    </tr>\n",
       "    <tr>\n",
       "      <th>24996</th>\n",
       "      <td>99_10.txt</td>\n",
       "      <td>This movie, with all its complexity and subtle...</td>\n",
       "    </tr>\n",
       "    <tr>\n",
       "      <th>24997</th>\n",
       "      <td>99_3.txt</td>\n",
       "      <td>Four things intrigued me as to this film - fir...</td>\n",
       "    </tr>\n",
       "    <tr>\n",
       "      <th>24998</th>\n",
       "      <td>9_4.txt</td>\n",
       "      <td>David Bryce's comments nearby are exceptionall...</td>\n",
       "    </tr>\n",
       "    <tr>\n",
       "      <th>24999</th>\n",
       "      <td>9_7.txt</td>\n",
       "      <td>I've seen this story before but my kids haven'...</td>\n",
       "    </tr>\n",
       "  </tbody>\n",
       "</table>\n",
       "<p>25000 rows × 2 columns</p>\n",
       "</div>"
      ],
      "text/plain": [
       "       review_file                                            content\n",
       "0         0_10.txt  I went and saw this movie last night after bei...\n",
       "1          0_2.txt  Once again Mr. Costner has dragged out a movie...\n",
       "2      10000_4.txt  This is an example of why the majority of acti...\n",
       "3      10000_7.txt  Actor turned director Bill Paxton follows up h...\n",
       "4      10001_1.txt  First of all I hate those moronic rappers, who...\n",
       "...            ...                                                ...\n",
       "24995    999_8.txt  From the start of \"The Edge Of Love\", the view...\n",
       "24996    99_10.txt  This movie, with all its complexity and subtle...\n",
       "24997     99_3.txt  Four things intrigued me as to this film - fir...\n",
       "24998      9_4.txt  David Bryce's comments nearby are exceptionall...\n",
       "24999      9_7.txt  I've seen this story before but my kids haven'...\n",
       "\n",
       "[25000 rows x 2 columns]"
      ]
     },
     "execution_count": 45,
     "metadata": {},
     "output_type": "execute_result"
    }
   ],
   "source": [
    "# Load the new data from a CSV file\n",
    "data1"
   ]
  },
  {
   "cell_type": "code",
   "execution_count": 46,
   "id": "06c8fce5",
   "metadata": {},
   "outputs": [],
   "source": [
    "data1.rename(columns={'content': 'review'}, inplace=True)"
   ]
  },
  {
   "cell_type": "code",
   "execution_count": 48,
   "id": "6483ede6",
   "metadata": {},
   "outputs": [],
   "source": [
    "files = data1['review_file'].copy()"
   ]
  },
  {
   "cell_type": "code",
   "execution_count": 50,
   "id": "17566987",
   "metadata": {},
   "outputs": [],
   "source": [
    "data1.drop('review_file', axis=1, inplace=True)"
   ]
  },
  {
   "cell_type": "code",
   "execution_count": 52,
   "id": "b3c53f05",
   "metadata": {},
   "outputs": [],
   "source": [
    "data1['review'] = data1['review'].apply(lambda text: text.strip().lower())"
   ]
  },
  {
   "cell_type": "code",
   "execution_count": 53,
   "id": "08247ad4",
   "metadata": {},
   "outputs": [],
   "source": [
    "# Apply text cleaning to the new data\n",
    "data1['review'] = data1['review'].apply(loaded_cleaner)\n",
    "\n",
    "# Vectorize the new data using the loaded vectorizer\n",
    "X_new_tfidf = loaded_vectorizer.transform(data1['review'])\n",
    "\n",
    "# Make predictions on the new data\n",
    "new_predictions = loaded_classifier.predict(X_new_tfidf)"
   ]
  },
  {
   "cell_type": "code",
   "execution_count": 54,
   "id": "2aad8c7d",
   "metadata": {},
   "outputs": [],
   "source": [
    "# Add the \"review_file\" column back to the data1 DataFrame\n",
    "data1['review_file'] = files\n",
    "\n",
    "# Add the predictions to the new_data DataFrame\n",
    "data1['predicted_sentiment'] = new_predictions"
   ]
  },
  {
   "cell_type": "code",
   "execution_count": 56,
   "id": "1e2100a7",
   "metadata": {},
   "outputs": [],
   "source": [
    "# Create a new DataFrame with only \"review_file\" and \"predicted_sentiment\" columns\n",
    "prediction = data1[['review_file', 'predicted_sentiment']]"
   ]
  },
  {
   "cell_type": "code",
   "execution_count": 58,
   "id": "8f3cb61a",
   "metadata": {},
   "outputs": [
    {
     "data": {
      "text/html": [
       "<div>\n",
       "<style scoped>\n",
       "    .dataframe tbody tr th:only-of-type {\n",
       "        vertical-align: middle;\n",
       "    }\n",
       "\n",
       "    .dataframe tbody tr th {\n",
       "        vertical-align: top;\n",
       "    }\n",
       "\n",
       "    .dataframe thead th {\n",
       "        text-align: right;\n",
       "    }\n",
       "</style>\n",
       "<table border=\"1\" class=\"dataframe\">\n",
       "  <thead>\n",
       "    <tr style=\"text-align: right;\">\n",
       "      <th></th>\n",
       "      <th>review</th>\n",
       "      <th>review_file</th>\n",
       "      <th>predicted_sentiment</th>\n",
       "    </tr>\n",
       "  </thead>\n",
       "  <tbody>\n",
       "    <tr>\n",
       "      <th>0</th>\n",
       "      <td>went saw movie night coaxed friends admit relu...</td>\n",
       "      <td>0_10.txt</td>\n",
       "      <td>positive</td>\n",
       "    </tr>\n",
       "    <tr>\n",
       "      <th>1</th>\n",
       "      <td>mr costner dragged movie far longer necessary ...</td>\n",
       "      <td>0_2.txt</td>\n",
       "      <td>negative</td>\n",
       "    </tr>\n",
       "    <tr>\n",
       "      <th>2</th>\n",
       "      <td>example majority action films generic boring w...</td>\n",
       "      <td>10000_4.txt</td>\n",
       "      <td>negative</td>\n",
       "    </tr>\n",
       "    <tr>\n",
       "      <th>3</th>\n",
       "      <td>actor turned director bill paxton follows prom...</td>\n",
       "      <td>10000_7.txt</td>\n",
       "      <td>positive</td>\n",
       "    </tr>\n",
       "    <tr>\n",
       "      <th>4</th>\n",
       "      <td>hate moronic rappers could'nt act gun pressed ...</td>\n",
       "      <td>10001_1.txt</td>\n",
       "      <td>negative</td>\n",
       "    </tr>\n",
       "    <tr>\n",
       "      <th>...</th>\n",
       "      <td>...</td>\n",
       "      <td>...</td>\n",
       "      <td>...</td>\n",
       "    </tr>\n",
       "    <tr>\n",
       "      <th>24995</th>\n",
       "      <td>start edge love viewer transported striking wo...</td>\n",
       "      <td>999_8.txt</td>\n",
       "      <td>positive</td>\n",
       "    </tr>\n",
       "    <tr>\n",
       "      <th>24996</th>\n",
       "      <td>movie complexity subtlety makes thought provok...</td>\n",
       "      <td>99_10.txt</td>\n",
       "      <td>positive</td>\n",
       "    </tr>\n",
       "    <tr>\n",
       "      <th>24997</th>\n",
       "      <td>things intrigued film firstly stars carly pope...</td>\n",
       "      <td>99_3.txt</td>\n",
       "      <td>negative</td>\n",
       "    </tr>\n",
       "    <tr>\n",
       "      <th>24998</th>\n",
       "      <td>david bryce comments nearby exceptionally writ...</td>\n",
       "      <td>9_4.txt</td>\n",
       "      <td>positive</td>\n",
       "    </tr>\n",
       "    <tr>\n",
       "      <th>24999</th>\n",
       "      <td>seen story kids boy troubled past joins milita...</td>\n",
       "      <td>9_7.txt</td>\n",
       "      <td>positive</td>\n",
       "    </tr>\n",
       "  </tbody>\n",
       "</table>\n",
       "<p>25000 rows × 3 columns</p>\n",
       "</div>"
      ],
      "text/plain": [
       "                                                  review  review_file  \\\n",
       "0      went saw movie night coaxed friends admit relu...     0_10.txt   \n",
       "1      mr costner dragged movie far longer necessary ...      0_2.txt   \n",
       "2      example majority action films generic boring w...  10000_4.txt   \n",
       "3      actor turned director bill paxton follows prom...  10000_7.txt   \n",
       "4      hate moronic rappers could'nt act gun pressed ...  10001_1.txt   \n",
       "...                                                  ...          ...   \n",
       "24995  start edge love viewer transported striking wo...    999_8.txt   \n",
       "24996  movie complexity subtlety makes thought provok...    99_10.txt   \n",
       "24997  things intrigued film firstly stars carly pope...     99_3.txt   \n",
       "24998  david bryce comments nearby exceptionally writ...      9_4.txt   \n",
       "24999  seen story kids boy troubled past joins milita...      9_7.txt   \n",
       "\n",
       "      predicted_sentiment  \n",
       "0                positive  \n",
       "1                negative  \n",
       "2                negative  \n",
       "3                positive  \n",
       "4                negative  \n",
       "...                   ...  \n",
       "24995            positive  \n",
       "24996            positive  \n",
       "24997            negative  \n",
       "24998            positive  \n",
       "24999            positive  \n",
       "\n",
       "[25000 rows x 3 columns]"
      ]
     },
     "execution_count": 58,
     "metadata": {},
     "output_type": "execute_result"
    }
   ],
   "source": [
    "data1"
   ]
  },
  {
   "cell_type": "code",
   "execution_count": 57,
   "id": "c6fd4d3a",
   "metadata": {},
   "outputs": [
    {
     "data": {
      "text/html": [
       "<div>\n",
       "<style scoped>\n",
       "    .dataframe tbody tr th:only-of-type {\n",
       "        vertical-align: middle;\n",
       "    }\n",
       "\n",
       "    .dataframe tbody tr th {\n",
       "        vertical-align: top;\n",
       "    }\n",
       "\n",
       "    .dataframe thead th {\n",
       "        text-align: right;\n",
       "    }\n",
       "</style>\n",
       "<table border=\"1\" class=\"dataframe\">\n",
       "  <thead>\n",
       "    <tr style=\"text-align: right;\">\n",
       "      <th></th>\n",
       "      <th>review_file</th>\n",
       "      <th>predicted_sentiment</th>\n",
       "    </tr>\n",
       "  </thead>\n",
       "  <tbody>\n",
       "    <tr>\n",
       "      <th>0</th>\n",
       "      <td>0_10.txt</td>\n",
       "      <td>positive</td>\n",
       "    </tr>\n",
       "    <tr>\n",
       "      <th>1</th>\n",
       "      <td>0_2.txt</td>\n",
       "      <td>negative</td>\n",
       "    </tr>\n",
       "    <tr>\n",
       "      <th>2</th>\n",
       "      <td>10000_4.txt</td>\n",
       "      <td>negative</td>\n",
       "    </tr>\n",
       "    <tr>\n",
       "      <th>3</th>\n",
       "      <td>10000_7.txt</td>\n",
       "      <td>positive</td>\n",
       "    </tr>\n",
       "    <tr>\n",
       "      <th>4</th>\n",
       "      <td>10001_1.txt</td>\n",
       "      <td>negative</td>\n",
       "    </tr>\n",
       "    <tr>\n",
       "      <th>...</th>\n",
       "      <td>...</td>\n",
       "      <td>...</td>\n",
       "    </tr>\n",
       "    <tr>\n",
       "      <th>24995</th>\n",
       "      <td>999_8.txt</td>\n",
       "      <td>positive</td>\n",
       "    </tr>\n",
       "    <tr>\n",
       "      <th>24996</th>\n",
       "      <td>99_10.txt</td>\n",
       "      <td>positive</td>\n",
       "    </tr>\n",
       "    <tr>\n",
       "      <th>24997</th>\n",
       "      <td>99_3.txt</td>\n",
       "      <td>negative</td>\n",
       "    </tr>\n",
       "    <tr>\n",
       "      <th>24998</th>\n",
       "      <td>9_4.txt</td>\n",
       "      <td>positive</td>\n",
       "    </tr>\n",
       "    <tr>\n",
       "      <th>24999</th>\n",
       "      <td>9_7.txt</td>\n",
       "      <td>positive</td>\n",
       "    </tr>\n",
       "  </tbody>\n",
       "</table>\n",
       "<p>25000 rows × 2 columns</p>\n",
       "</div>"
      ],
      "text/plain": [
       "       review_file predicted_sentiment\n",
       "0         0_10.txt            positive\n",
       "1          0_2.txt            negative\n",
       "2      10000_4.txt            negative\n",
       "3      10000_7.txt            positive\n",
       "4      10001_1.txt            negative\n",
       "...            ...                 ...\n",
       "24995    999_8.txt            positive\n",
       "24996    99_10.txt            positive\n",
       "24997     99_3.txt            negative\n",
       "24998      9_4.txt            positive\n",
       "24999      9_7.txt            positive\n",
       "\n",
       "[25000 rows x 2 columns]"
      ]
     },
     "execution_count": 57,
     "metadata": {},
     "output_type": "execute_result"
    }
   ],
   "source": [
    "prediction"
   ]
  },
  {
   "cell_type": "code",
   "execution_count": 59,
   "id": "4388f16d",
   "metadata": {},
   "outputs": [
    {
     "name": "stdout",
     "output_type": "stream",
     "text": [
      "negative    12919\n",
      "positive    12081\n",
      "Name: predicted_sentiment, dtype: int64\n"
     ]
    }
   ],
   "source": [
    "# Count the occurrences of \"Positive\" and \"Negative\" in the predictions\n",
    "count = prediction['predicted_sentiment'].value_counts()\n",
    "\n",
    "print(count)"
   ]
  },
  {
   "cell_type": "code",
   "execution_count": null,
   "id": "5bd26420",
   "metadata": {},
   "outputs": [],
   "source": [
    "# Save the Predictions\n",
    "prediction.to_csv('predicted_sentiment_results.csv', index=False)"
   ]
  }
 ],
 "metadata": {
  "kernelspec": {
   "display_name": "Python 3 (ipykernel)",
   "language": "python",
   "name": "python3"
  },
  "language_info": {
   "codemirror_mode": {
    "name": "ipython",
    "version": 3
   },
   "file_extension": ".py",
   "mimetype": "text/x-python",
   "name": "python",
   "nbconvert_exporter": "python",
   "pygments_lexer": "ipython3",
   "version": "3.10.9"
  }
 },
 "nbformat": 4,
 "nbformat_minor": 5
}
