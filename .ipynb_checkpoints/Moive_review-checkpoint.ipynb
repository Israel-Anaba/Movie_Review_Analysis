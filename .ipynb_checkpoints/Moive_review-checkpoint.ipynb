{
 "cells": [
  {
   "cell_type": "code",
   "execution_count": 1,
   "id": "ec14aacd",
   "metadata": {},
   "outputs": [],
   "source": [
    "# !pip install spacy\n",
    "# !pip install gradio\n",
    "# !python -m spacy download en_core_web_sm\n",
    "# !pip install wordcloud"
   ]
  },
  {
   "cell_type": "code",
   "execution_count": null,
   "id": "3ab5556a",
   "metadata": {},
   "outputs": [],
   "source": [
    "import numpy as np\n",
    "import pandas as pd\n",
    "import matplotlib.pyplot as plt\n",
    "import seaborn as sns\n",
    "import spacy\n",
    "import string\n",
    "import pickle\n",
    "import os\n",
    "import shutil\n",
    "from wordcloud import WordCloud\n",
    "from spacy.lang.en.stop_words import STOP_WORDS\n",
    "from spacy.lang.en import English\n",
    "from scipy.stats import ttest_ind\n",
    "from sklearn.feature_extraction.text import CountVectorizer,TfidfVectorizer\n",
    "from sklearn.metrics import accuracy_score, confusion_matrix, classification_report\n",
    "from sklearn.base import TransformerMixin \n",
    "from sklearn.naive_bayes import MultinomialNB\n",
    "from sklearn.linear_model import LogisticRegression\n",
    "from sklearn.ensemble import RandomForestClassifier\n",
    "from sklearn.model_selection import train_test_split\n",
    "\n",
    "import warnings\n",
    "warnings.filterwarnings(\"ignore\")"
   ]
  },
  {
   "cell_type": "markdown",
   "id": "6defc181",
   "metadata": {},
   "source": [
    "## Data Collection & Loading"
   ]
  },
  {
   "cell_type": "code",
   "execution_count": 3,
   "id": "607bd18d",
   "metadata": {},
   "outputs": [],
   "source": [
    "data=pd.read_csv('C:Assets\\Train.csv')"
   ]
  },
  {
   "cell_type": "code",
   "execution_count": 4,
   "id": "0eb39008",
   "metadata": {},
   "outputs": [
    {
     "data": {
      "text/html": [
       "<div>\n",
       "<style scoped>\n",
       "    .dataframe tbody tr th:only-of-type {\n",
       "        vertical-align: middle;\n",
       "    }\n",
       "\n",
       "    .dataframe tbody tr th {\n",
       "        vertical-align: top;\n",
       "    }\n",
       "\n",
       "    .dataframe thead th {\n",
       "        text-align: right;\n",
       "    }\n",
       "</style>\n",
       "<table border=\"1\" class=\"dataframe\">\n",
       "  <thead>\n",
       "    <tr style=\"text-align: right;\">\n",
       "      <th></th>\n",
       "      <th>review_file</th>\n",
       "      <th>content</th>\n",
       "      <th>sentiment</th>\n",
       "    </tr>\n",
       "  </thead>\n",
       "  <tbody>\n",
       "    <tr>\n",
       "      <th>0</th>\n",
       "      <td>3471_8.txt</td>\n",
       "      <td>Recently shown on cable tv the movie opens wit...</td>\n",
       "      <td>positive</td>\n",
       "    </tr>\n",
       "    <tr>\n",
       "      <th>1</th>\n",
       "      <td>9693_8.txt</td>\n",
       "      <td>I was very surprised with this film. I was tou...</td>\n",
       "      <td>positive</td>\n",
       "    </tr>\n",
       "    <tr>\n",
       "      <th>2</th>\n",
       "      <td>10801_1.txt</td>\n",
       "      <td>Now, I'm one to watch movies that got poor rev...</td>\n",
       "      <td>negative</td>\n",
       "    </tr>\n",
       "    <tr>\n",
       "      <th>3</th>\n",
       "      <td>9592_8.txt</td>\n",
       "      <td>This film came out 12 years years ago, and was...</td>\n",
       "      <td>positive</td>\n",
       "    </tr>\n",
       "    <tr>\n",
       "      <th>4</th>\n",
       "      <td>8514_7.txt</td>\n",
       "      <td>When an orphanage manager goes on vacation, hi...</td>\n",
       "      <td>positive</td>\n",
       "    </tr>\n",
       "    <tr>\n",
       "      <th>...</th>\n",
       "      <td>...</td>\n",
       "      <td>...</td>\n",
       "      <td>...</td>\n",
       "    </tr>\n",
       "    <tr>\n",
       "      <th>24995</th>\n",
       "      <td>2791_3.txt</td>\n",
       "      <td>As with most of the reviewers, I saw this on S...</td>\n",
       "      <td>negative</td>\n",
       "    </tr>\n",
       "    <tr>\n",
       "      <th>24996</th>\n",
       "      <td>644_9.txt</td>\n",
       "      <td>A have a female friend who is currently being ...</td>\n",
       "      <td>positive</td>\n",
       "    </tr>\n",
       "    <tr>\n",
       "      <th>24997</th>\n",
       "      <td>4921_8.txt</td>\n",
       "      <td>Like A Streetcar Named Desire (also directed b...</td>\n",
       "      <td>positive</td>\n",
       "    </tr>\n",
       "    <tr>\n",
       "      <th>24998</th>\n",
       "      <td>5791_1.txt</td>\n",
       "      <td>As a Native film professor, I can honestly say...</td>\n",
       "      <td>negative</td>\n",
       "    </tr>\n",
       "    <tr>\n",
       "      <th>24999</th>\n",
       "      <td>8997_10.txt</td>\n",
       "      <td>I've seen this movie on several different occa...</td>\n",
       "      <td>positive</td>\n",
       "    </tr>\n",
       "  </tbody>\n",
       "</table>\n",
       "<p>25000 rows × 3 columns</p>\n",
       "</div>"
      ],
      "text/plain": [
       "       review_file                                            content  \\\n",
       "0       3471_8.txt  Recently shown on cable tv the movie opens wit...   \n",
       "1       9693_8.txt  I was very surprised with this film. I was tou...   \n",
       "2      10801_1.txt  Now, I'm one to watch movies that got poor rev...   \n",
       "3       9592_8.txt  This film came out 12 years years ago, and was...   \n",
       "4       8514_7.txt  When an orphanage manager goes on vacation, hi...   \n",
       "...            ...                                                ...   \n",
       "24995   2791_3.txt  As with most of the reviewers, I saw this on S...   \n",
       "24996    644_9.txt  A have a female friend who is currently being ...   \n",
       "24997   4921_8.txt  Like A Streetcar Named Desire (also directed b...   \n",
       "24998   5791_1.txt  As a Native film professor, I can honestly say...   \n",
       "24999  8997_10.txt  I've seen this movie on several different occa...   \n",
       "\n",
       "      sentiment  \n",
       "0      positive  \n",
       "1      positive  \n",
       "2      negative  \n",
       "3      positive  \n",
       "4      positive  \n",
       "...         ...  \n",
       "24995  negative  \n",
       "24996  positive  \n",
       "24997  positive  \n",
       "24998  negative  \n",
       "24999  positive  \n",
       "\n",
       "[25000 rows x 3 columns]"
      ]
     },
     "execution_count": 4,
     "metadata": {},
     "output_type": "execute_result"
    }
   ],
   "source": [
    "data"
   ]
  },
  {
   "cell_type": "code",
   "execution_count": 5,
   "id": "ac46e650",
   "metadata": {},
   "outputs": [
    {
     "data": {
      "text/plain": [
       "(25000, 3)"
      ]
     },
     "execution_count": 5,
     "metadata": {},
     "output_type": "execute_result"
    }
   ],
   "source": [
    "data.shape"
   ]
  },
  {
   "cell_type": "code",
   "execution_count": 6,
   "id": "c566ba90",
   "metadata": {},
   "outputs": [
    {
     "data": {
      "text/plain": [
       "<bound method DataFrame.info of        review_file                                            content  \\\n",
       "0       3471_8.txt  Recently shown on cable tv the movie opens wit...   \n",
       "1       9693_8.txt  I was very surprised with this film. I was tou...   \n",
       "2      10801_1.txt  Now, I'm one to watch movies that got poor rev...   \n",
       "3       9592_8.txt  This film came out 12 years years ago, and was...   \n",
       "4       8514_7.txt  When an orphanage manager goes on vacation, hi...   \n",
       "...            ...                                                ...   \n",
       "24995   2791_3.txt  As with most of the reviewers, I saw this on S...   \n",
       "24996    644_9.txt  A have a female friend who is currently being ...   \n",
       "24997   4921_8.txt  Like A Streetcar Named Desire (also directed b...   \n",
       "24998   5791_1.txt  As a Native film professor, I can honestly say...   \n",
       "24999  8997_10.txt  I've seen this movie on several different occa...   \n",
       "\n",
       "      sentiment  \n",
       "0      positive  \n",
       "1      positive  \n",
       "2      negative  \n",
       "3      positive  \n",
       "4      positive  \n",
       "...         ...  \n",
       "24995  negative  \n",
       "24996  positive  \n",
       "24997  positive  \n",
       "24998  negative  \n",
       "24999  positive  \n",
       "\n",
       "[25000 rows x 3 columns]>"
      ]
     },
     "execution_count": 6,
     "metadata": {},
     "output_type": "execute_result"
    }
   ],
   "source": [
    "data.info"
   ]
  },
  {
   "cell_type": "code",
   "execution_count": 7,
   "id": "bbb88722",
   "metadata": {},
   "outputs": [
    {
     "data": {
      "text/plain": [
       "<bound method NDFrame.describe of        review_file                                            content  \\\n",
       "0       3471_8.txt  Recently shown on cable tv the movie opens wit...   \n",
       "1       9693_8.txt  I was very surprised with this film. I was tou...   \n",
       "2      10801_1.txt  Now, I'm one to watch movies that got poor rev...   \n",
       "3       9592_8.txt  This film came out 12 years years ago, and was...   \n",
       "4       8514_7.txt  When an orphanage manager goes on vacation, hi...   \n",
       "...            ...                                                ...   \n",
       "24995   2791_3.txt  As with most of the reviewers, I saw this on S...   \n",
       "24996    644_9.txt  A have a female friend who is currently being ...   \n",
       "24997   4921_8.txt  Like A Streetcar Named Desire (also directed b...   \n",
       "24998   5791_1.txt  As a Native film professor, I can honestly say...   \n",
       "24999  8997_10.txt  I've seen this movie on several different occa...   \n",
       "\n",
       "      sentiment  \n",
       "0      positive  \n",
       "1      positive  \n",
       "2      negative  \n",
       "3      positive  \n",
       "4      positive  \n",
       "...         ...  \n",
       "24995  negative  \n",
       "24996  positive  \n",
       "24997  positive  \n",
       "24998  negative  \n",
       "24999  positive  \n",
       "\n",
       "[25000 rows x 3 columns]>"
      ]
     },
     "execution_count": 7,
     "metadata": {},
     "output_type": "execute_result"
    }
   ],
   "source": [
    "data.describe"
   ]
  },
  {
   "cell_type": "code",
   "execution_count": 8,
   "id": "0feb5e5e",
   "metadata": {},
   "outputs": [
    {
     "data": {
      "text/plain": [
       "review_file    0\n",
       "content        0\n",
       "sentiment      0\n",
       "dtype: int64"
      ]
     },
     "execution_count": 8,
     "metadata": {},
     "output_type": "execute_result"
    }
   ],
   "source": [
    "data.isna().sum()"
   ]
  },
  {
   "cell_type": "code",
   "execution_count": 9,
   "id": "c57d3923",
   "metadata": {},
   "outputs": [
    {
     "name": "stdout",
     "output_type": "stream",
     "text": [
      "Columns Names: ['review_file', 'content', 'sentiment']\n"
     ]
    }
   ],
   "source": [
    "print(f'Columns Names: {list(data.columns)}')"
   ]
  },
  {
   "cell_type": "code",
   "execution_count": 10,
   "id": "bbfc9701",
   "metadata": {},
   "outputs": [],
   "source": [
    "data1=pd.read_csv('C:Assets\\Test.csv')"
   ]
  },
  {
   "cell_type": "code",
   "execution_count": 11,
   "id": "799fa249",
   "metadata": {},
   "outputs": [
    {
     "data": {
      "text/html": [
       "<div>\n",
       "<style scoped>\n",
       "    .dataframe tbody tr th:only-of-type {\n",
       "        vertical-align: middle;\n",
       "    }\n",
       "\n",
       "    .dataframe tbody tr th {\n",
       "        vertical-align: top;\n",
       "    }\n",
       "\n",
       "    .dataframe thead th {\n",
       "        text-align: right;\n",
       "    }\n",
       "</style>\n",
       "<table border=\"1\" class=\"dataframe\">\n",
       "  <thead>\n",
       "    <tr style=\"text-align: right;\">\n",
       "      <th></th>\n",
       "      <th>review_file</th>\n",
       "      <th>content</th>\n",
       "    </tr>\n",
       "  </thead>\n",
       "  <tbody>\n",
       "    <tr>\n",
       "      <th>0</th>\n",
       "      <td>0_10.txt</td>\n",
       "      <td>I went and saw this movie last night after bei...</td>\n",
       "    </tr>\n",
       "    <tr>\n",
       "      <th>1</th>\n",
       "      <td>0_2.txt</td>\n",
       "      <td>Once again Mr. Costner has dragged out a movie...</td>\n",
       "    </tr>\n",
       "    <tr>\n",
       "      <th>2</th>\n",
       "      <td>10000_4.txt</td>\n",
       "      <td>This is an example of why the majority of acti...</td>\n",
       "    </tr>\n",
       "    <tr>\n",
       "      <th>3</th>\n",
       "      <td>10000_7.txt</td>\n",
       "      <td>Actor turned director Bill Paxton follows up h...</td>\n",
       "    </tr>\n",
       "    <tr>\n",
       "      <th>4</th>\n",
       "      <td>10001_1.txt</td>\n",
       "      <td>First of all I hate those moronic rappers, who...</td>\n",
       "    </tr>\n",
       "    <tr>\n",
       "      <th>...</th>\n",
       "      <td>...</td>\n",
       "      <td>...</td>\n",
       "    </tr>\n",
       "    <tr>\n",
       "      <th>24995</th>\n",
       "      <td>999_8.txt</td>\n",
       "      <td>From the start of \"The Edge Of Love\", the view...</td>\n",
       "    </tr>\n",
       "    <tr>\n",
       "      <th>24996</th>\n",
       "      <td>99_10.txt</td>\n",
       "      <td>This movie, with all its complexity and subtle...</td>\n",
       "    </tr>\n",
       "    <tr>\n",
       "      <th>24997</th>\n",
       "      <td>99_3.txt</td>\n",
       "      <td>Four things intrigued me as to this film - fir...</td>\n",
       "    </tr>\n",
       "    <tr>\n",
       "      <th>24998</th>\n",
       "      <td>9_4.txt</td>\n",
       "      <td>David Bryce's comments nearby are exceptionall...</td>\n",
       "    </tr>\n",
       "    <tr>\n",
       "      <th>24999</th>\n",
       "      <td>9_7.txt</td>\n",
       "      <td>I've seen this story before but my kids haven'...</td>\n",
       "    </tr>\n",
       "  </tbody>\n",
       "</table>\n",
       "<p>25000 rows × 2 columns</p>\n",
       "</div>"
      ],
      "text/plain": [
       "       review_file                                            content\n",
       "0         0_10.txt  I went and saw this movie last night after bei...\n",
       "1          0_2.txt  Once again Mr. Costner has dragged out a movie...\n",
       "2      10000_4.txt  This is an example of why the majority of acti...\n",
       "3      10000_7.txt  Actor turned director Bill Paxton follows up h...\n",
       "4      10001_1.txt  First of all I hate those moronic rappers, who...\n",
       "...            ...                                                ...\n",
       "24995    999_8.txt  From the start of \"The Edge Of Love\", the view...\n",
       "24996    99_10.txt  This movie, with all its complexity and subtle...\n",
       "24997     99_3.txt  Four things intrigued me as to this film - fir...\n",
       "24998      9_4.txt  David Bryce's comments nearby are exceptionall...\n",
       "24999      9_7.txt  I've seen this story before but my kids haven'...\n",
       "\n",
       "[25000 rows x 2 columns]"
      ]
     },
     "execution_count": 11,
     "metadata": {},
     "output_type": "execute_result"
    }
   ],
   "source": [
    "data1"
   ]
  },
  {
   "cell_type": "code",
   "execution_count": 12,
   "id": "72dd3eec",
   "metadata": {},
   "outputs": [
    {
     "data": {
      "text/plain": [
       "<bound method DataFrame.info of        review_file                                            content  \\\n",
       "0       3471_8.txt  Recently shown on cable tv the movie opens wit...   \n",
       "1       9693_8.txt  I was very surprised with this film. I was tou...   \n",
       "2      10801_1.txt  Now, I'm one to watch movies that got poor rev...   \n",
       "3       9592_8.txt  This film came out 12 years years ago, and was...   \n",
       "4       8514_7.txt  When an orphanage manager goes on vacation, hi...   \n",
       "...            ...                                                ...   \n",
       "24995   2791_3.txt  As with most of the reviewers, I saw this on S...   \n",
       "24996    644_9.txt  A have a female friend who is currently being ...   \n",
       "24997   4921_8.txt  Like A Streetcar Named Desire (also directed b...   \n",
       "24998   5791_1.txt  As a Native film professor, I can honestly say...   \n",
       "24999  8997_10.txt  I've seen this movie on several different occa...   \n",
       "\n",
       "      sentiment  \n",
       "0      positive  \n",
       "1      positive  \n",
       "2      negative  \n",
       "3      positive  \n",
       "4      positive  \n",
       "...         ...  \n",
       "24995  negative  \n",
       "24996  positive  \n",
       "24997  positive  \n",
       "24998  negative  \n",
       "24999  positive  \n",
       "\n",
       "[25000 rows x 3 columns]>"
      ]
     },
     "execution_count": 12,
     "metadata": {},
     "output_type": "execute_result"
    }
   ],
   "source": [
    "data.info"
   ]
  },
  {
   "cell_type": "code",
   "execution_count": 13,
   "id": "016b8792",
   "metadata": {},
   "outputs": [],
   "source": [
    "data.rename(columns={'content': 'review'}, inplace=True)"
   ]
  },
  {
   "cell_type": "code",
   "execution_count": 14,
   "id": "82bf6675",
   "metadata": {},
   "outputs": [],
   "source": [
    "data.drop('review_file', axis=1, inplace=True)"
   ]
  },
  {
   "cell_type": "code",
   "execution_count": 15,
   "id": "d4703645",
   "metadata": {},
   "outputs": [
    {
     "data": {
      "text/html": [
       "<div>\n",
       "<style scoped>\n",
       "    .dataframe tbody tr th:only-of-type {\n",
       "        vertical-align: middle;\n",
       "    }\n",
       "\n",
       "    .dataframe tbody tr th {\n",
       "        vertical-align: top;\n",
       "    }\n",
       "\n",
       "    .dataframe thead th {\n",
       "        text-align: right;\n",
       "    }\n",
       "</style>\n",
       "<table border=\"1\" class=\"dataframe\">\n",
       "  <thead>\n",
       "    <tr style=\"text-align: right;\">\n",
       "      <th></th>\n",
       "      <th>review</th>\n",
       "      <th>sentiment</th>\n",
       "    </tr>\n",
       "  </thead>\n",
       "  <tbody>\n",
       "    <tr>\n",
       "      <th>0</th>\n",
       "      <td>Recently shown on cable tv the movie opens wit...</td>\n",
       "      <td>positive</td>\n",
       "    </tr>\n",
       "    <tr>\n",
       "      <th>1</th>\n",
       "      <td>I was very surprised with this film. I was tou...</td>\n",
       "      <td>positive</td>\n",
       "    </tr>\n",
       "    <tr>\n",
       "      <th>2</th>\n",
       "      <td>Now, I'm one to watch movies that got poor rev...</td>\n",
       "      <td>negative</td>\n",
       "    </tr>\n",
       "    <tr>\n",
       "      <th>3</th>\n",
       "      <td>This film came out 12 years years ago, and was...</td>\n",
       "      <td>positive</td>\n",
       "    </tr>\n",
       "    <tr>\n",
       "      <th>4</th>\n",
       "      <td>When an orphanage manager goes on vacation, hi...</td>\n",
       "      <td>positive</td>\n",
       "    </tr>\n",
       "    <tr>\n",
       "      <th>...</th>\n",
       "      <td>...</td>\n",
       "      <td>...</td>\n",
       "    </tr>\n",
       "    <tr>\n",
       "      <th>24995</th>\n",
       "      <td>As with most of the reviewers, I saw this on S...</td>\n",
       "      <td>negative</td>\n",
       "    </tr>\n",
       "    <tr>\n",
       "      <th>24996</th>\n",
       "      <td>A have a female friend who is currently being ...</td>\n",
       "      <td>positive</td>\n",
       "    </tr>\n",
       "    <tr>\n",
       "      <th>24997</th>\n",
       "      <td>Like A Streetcar Named Desire (also directed b...</td>\n",
       "      <td>positive</td>\n",
       "    </tr>\n",
       "    <tr>\n",
       "      <th>24998</th>\n",
       "      <td>As a Native film professor, I can honestly say...</td>\n",
       "      <td>negative</td>\n",
       "    </tr>\n",
       "    <tr>\n",
       "      <th>24999</th>\n",
       "      <td>I've seen this movie on several different occa...</td>\n",
       "      <td>positive</td>\n",
       "    </tr>\n",
       "  </tbody>\n",
       "</table>\n",
       "<p>25000 rows × 2 columns</p>\n",
       "</div>"
      ],
      "text/plain": [
       "                                                  review sentiment\n",
       "0      Recently shown on cable tv the movie opens wit...  positive\n",
       "1      I was very surprised with this film. I was tou...  positive\n",
       "2      Now, I'm one to watch movies that got poor rev...  negative\n",
       "3      This film came out 12 years years ago, and was...  positive\n",
       "4      When an orphanage manager goes on vacation, hi...  positive\n",
       "...                                                  ...       ...\n",
       "24995  As with most of the reviewers, I saw this on S...  negative\n",
       "24996  A have a female friend who is currently being ...  positive\n",
       "24997  Like A Streetcar Named Desire (also directed b...  positive\n",
       "24998  As a Native film professor, I can honestly say...  negative\n",
       "24999  I've seen this movie on several different occa...  positive\n",
       "\n",
       "[25000 rows x 2 columns]"
      ]
     },
     "execution_count": 15,
     "metadata": {},
     "output_type": "execute_result"
    }
   ],
   "source": [
    "data"
   ]
  },
  {
   "cell_type": "markdown",
   "id": "b5d29b2f",
   "metadata": {},
   "source": [
    "## EDA"
   ]
  },
  {
   "cell_type": "code",
   "execution_count": 16,
   "id": "013ede5d",
   "metadata": {},
   "outputs": [
    {
     "data": {
      "image/png": "[encoded data removed]",
      "text/plain": [
       "<Figure size 640x480 with 1 Axes>"
      ]
     },
     "metadata": {},
     "output_type": "display_data"
    }
   ],
   "source": [
    "# Distribution of sentiment labels\n",
    "sns.countplot(x='sentiment', data=data)\n",
    "plt.title('Distribution of Sentiment Labels')\n",
    "plt.show()"
   ]
  },
  {
   "cell_type": "code",
   "execution_count": 17,
   "id": "a134b711",
   "metadata": {},
   "outputs": [
    {
     "name": "stdout",
     "output_type": "stream",
     "text": [
      "positive    12500\n",
      "negative    12500\n",
      "Name: sentiment, dtype: int64\n"
     ]
    }
   ],
   "source": [
    "# Count the number of each sentiment label\n",
    "sentiment_count = data['sentiment'].value_counts()\n",
    "\n",
    "print(sentiment_count)"
   ]
  },
  {
   "cell_type": "code",
   "execution_count": null,
   "id": "50f93401",
   "metadata": {},
   "outputs": [],
   "source": []
  },
  {
   "cell_type": "code",
   "execution_count": null,
   "id": "88796978",
   "metadata": {},
   "outputs": [],
   "source": []
  },
  {
   "cell_type": "code",
   "execution_count": null,
   "id": "ce2ae4e8",
   "metadata": {},
   "outputs": [],
   "source": []
  },
  {
   "cell_type": "markdown",
   "id": "24c12965",
   "metadata": {},
   "source": [
    "## HYPOTHESIS TESTING"
   ]
  },
  {
   "cell_type": "markdown",
   "id": "349ff0ce",
   "metadata": {},
   "source": [
    "### Question: Is a significant difference in the average word count between positive and negative reviews\n",
    "\n",
    "### H(0) - There is no significant difference in the average word count between positive and negative reviews \n",
    "\n",
    "### H(1)- There is a significant difference in the average word count between positive and negative reviews "
   ]
  },
  {
   "cell_type": "code",
   "execution_count": 19,
   "id": "d95ce0ee",
   "metadata": {},
   "outputs": [
    {
     "name": "stdout",
     "output_type": "stream",
     "text": [
      "Reject the null hypothesis: There is a significant difference in word count between positive and negative reviews.\n"
     ]
    }
   ],
   "source": [
    "# Separate positive and negative reviews\n",
    "positive_reviews = data[data['sentiment'] == 'positive']\n",
    "negative_reviews = data[data['sentiment'] == 'negative']\n",
    "\n",
    "# Calculate word count for each review\n",
    "positive_reviews['word_count'] = positive_reviews['review'].apply(lambda x: len(x.split()))\n",
    "negative_reviews['word_count'] = negative_reviews['review'].apply(lambda x: len(x.split()))\n",
    "\n",
    "# Perform a two-sample t-test\n",
    "t_stat, p_value = ttest_ind(positive_reviews['word_count'], negative_reviews['word_count'])\n",
    "\n",
    "# Define the significance level (alpha)\n",
    "alpha = 0.05\n",
    "\n",
    "# Check the p-value\n",
    "if p_value < alpha:\n",
    "    print(\"Reject the null hypothesis: There is a significant difference in word count between positive and negative reviews.\")\n",
    "else:\n",
    "    print(\"Fail to reject the null hypothesis: There is no significant difference in word count between positive and negative reviews.\")\n"
   ]
  },
  {
   "cell_type": "code",
   "execution_count": null,
   "id": "2a6af6ae",
   "metadata": {},
   "outputs": [],
   "source": []
  },
  {
   "cell_type": "code",
   "execution_count": null,
   "id": "61511324",
   "metadata": {},
   "outputs": [],
   "source": []
  },
  {
   "cell_type": "markdown",
   "id": "0b4bc7ef",
   "metadata": {},
   "source": [
    "  ## ANSWERING QUESTIONS"
   ]
  },
  {
   "cell_type": "code",
   "execution_count": 24,
   "id": "6c173ca7",
   "metadata": {},
   "outputs": [
    {
     "data": {
      "image/png": "[encoded data removed]",
      "text/plain": [
       "<Figure size 640x480 with 1 Axes>"
      ]
     },
     "metadata": {},
     "output_type": "display_data"
    }
   ],
   "source": [
    "# Plot the distribution of sentiment labels\n",
    "sentiment_counts = data['sentiment'].value_counts()\n",
    "plt.bar(sentiment_counts.index, sentiment_counts.values)\n",
    "plt.title('Distribution of Sentiment Labels')\n",
    "plt.xlabel('Sentiment')\n",
    "plt.ylabel('Count')\n",
    "plt.show()"
   ]
  },
  {
   "cell_type": "code",
   "execution_count": null,
   "id": "f20fcb03",
   "metadata": {},
   "outputs": [],
   "source": []
  },
  {
   "cell_type": "code",
   "execution_count": null,
   "id": "f21961f2",
   "metadata": {},
   "outputs": [],
   "source": []
  },
  {
   "cell_type": "code",
   "execution_count": null,
   "id": "b3813452",
   "metadata": {},
   "outputs": [],
   "source": []
  },
  {
   "cell_type": "markdown",
   "id": "5b00949c",
   "metadata": {},
   "source": [
    "## Feature Processing & Engineering"
   ]
  },
  {
   "cell_type": "code",
   "execution_count": 25,
   "id": "6c87ba04",
   "metadata": {},
   "outputs": [],
   "source": [
    "# Load spaCy\n",
    "# nlp = spacy.load(\"en_core_web_sm\")\n",
    "nlp = English()\n",
    "stopwords = list(nlp.Defaults.stop_words)\n",
    "punctuations = string.punctuation"
   ]
  },
  {
   "cell_type": "code",
   "execution_count": 26,
   "id": "cf7504cb",
   "metadata": {},
   "outputs": [],
   "source": [
    "# Preprocess the text before splitting\n",
    "data['review'] = data['review'].apply(lambda text: text.strip().lower())"
   ]
  },
  {
   "cell_type": "code",
   "execution_count": null,
   "id": "5db7ed71",
   "metadata": {},
   "outputs": [],
   "source": [
    "# Tokenization, stopwords removal, and punctuation removal using spaCy\n",
    "def process_text(text):\n",
    "    doc = nlp(text)\n",
    "    tokens = [token.text for token in doc if token.text not in stopwords and token.text not in punctuations]\n",
    "    return ' '.join(tokens)"
   ]
  },
  {
   "cell_type": "markdown",
   "id": "b16e4a13",
   "metadata": {},
   "source": [
    "## Data Splitting"
   ]
  },
  {
   "cell_type": "code",
   "execution_count": 27,
   "id": "c8588b02",
   "metadata": {},
   "outputs": [],
   "source": [
    "# Split the data into training and testing sets\n",
    "X = data['review']\n",
    "y = data['sentiment']"
   ]
  },
  {
   "cell_type": "code",
   "execution_count": 28,
   "id": "a66cf5d5",
   "metadata": {},
   "outputs": [],
   "source": [
    "X_train, X_test, y_train, y_test = train_test_split(X, y, test_size=0.2, random_state=42)\n",
    "# X_train, X_test, y_train, y_test = train_test_split(X, y, test_size=0.2, random_state=42, stratify=y)"
   ]
  },
  {
   "cell_type": "markdown",
   "id": "0d59d729",
   "metadata": {},
   "source": [
    "## Feature Encoding"
   ]
  },
  {
   "cell_type": "code",
   "execution_count": 29,
   "id": "f67b1f87",
   "metadata": {},
   "outputs": [],
   "source": [
    "#  #Tokenization, stopwords removal, and punctuation removal using spaCy\n",
    "# def process_text(text):\n",
    "#     doc = nlp(text)\n",
    "#     tokens = [token.text for token in doc if token.text not in stopwords and token.text not in punctuations]\n",
    "#     return ' '.join(tokens)"
   ]
  },
  {
   "cell_type": "code",
   "execution_count": 30,
   "id": "e0a19b5c",
   "metadata": {},
   "outputs": [],
   "source": [
    "X_train = X_train.apply(process_text)\n",
    "X_test = X_test.apply(process_text)"
   ]
  },
  {
   "cell_type": "code",
   "execution_count": 31,
   "id": "acb7df53",
   "metadata": {},
   "outputs": [],
   "source": [
    "# Text vectorization using TF-IDF\n",
    "tfidf_vectorizer = TfidfVectorizer(max_features=5000)\n",
    "X_train_tfidf = tfidf_vectorizer.fit_transform(X_train)\n",
    "X_test_tfidf = tfidf_vectorizer.transform(X_test)"
   ]
  },
  {
   "cell_type": "markdown",
   "id": "caf134ed",
   "metadata": {},
   "source": [
    "## TRAIN & EVALUATE MODEL"
   ]
  },
  {
   "cell_type": "code",
   "execution_count": 34,
   "id": "7875e2ec",
   "metadata": {},
   "outputs": [],
   "source": [
    "# # Train a sentiment classifier \n",
    "# classifier = MultinomialNB()\n",
    "# classifier.fit(X_train_tfidf, y_train)\n",
    "\n",
    "# # Make predictions on the test set\n",
    "# y_pred = classifier.predict(X_test_tfidf)\n",
    "\n",
    "# # Print the classification report\n",
    "# class_report = classification_report(y_test, y_pred)\n",
    "# print(\"Classification Report:\")\n",
    "# print(class_report)\n",
    "\n",
    "# # Calculate and print the accuracy score\n",
    "# accuracy = accuracy_score(y_test, y_pred)\n",
    "# print(f\"Accuracy Score: {accuracy:.2f}\")"
   ]
  },
  {
   "cell_type": "code",
   "execution_count": 35,
   "id": "36554201",
   "metadata": {},
   "outputs": [
    {
     "name": "stdout",
     "output_type": "stream",
     "text": [
      "Classification Report for MultinomialNB:\n",
      "              precision    recall  f1-score   support\n",
      "\n",
      "    negative       0.86      0.85      0.86      2521\n",
      "    positive       0.85      0.86      0.85      2479\n",
      "\n",
      "    accuracy                           0.85      5000\n",
      "   macro avg       0.85      0.86      0.85      5000\n",
      "weighted avg       0.86      0.85      0.86      5000\n",
      "\n",
      "Accuracy Score for MultinomialNB: 85.50%\n",
      "\n",
      "Classification Report for LogisticRegression:\n",
      "              precision    recall  f1-score   support\n",
      "\n",
      "    negative       0.90      0.87      0.88      2521\n",
      "    positive       0.87      0.90      0.88      2479\n",
      "\n",
      "    accuracy                           0.88      5000\n",
      "   macro avg       0.88      0.88      0.88      5000\n",
      "weighted avg       0.88      0.88      0.88      5000\n",
      "\n",
      "Accuracy Score for LogisticRegression: 88.18%\n",
      "\n",
      "Classification Report for RandomForest:\n",
      "              precision    recall  f1-score   support\n",
      "\n",
      "    negative       0.84      0.85      0.85      2521\n",
      "    positive       0.85      0.84      0.84      2479\n",
      "\n",
      "    accuracy                           0.85      5000\n",
      "   macro avg       0.85      0.85      0.85      5000\n",
      "weighted avg       0.85      0.85      0.85      5000\n",
      "\n",
      "Accuracy Score for RandomForest: 84.58%\n",
      "\n"
     ]
    }
   ],
   "source": [
    "# List of classifiers\n",
    "classifiers = {\n",
    "    \"MultinomialNB\": MultinomialNB(),\n",
    "    \"LogisticRegression\": LogisticRegression(),\n",
    "    \"RandomForest\": RandomForestClassifier()\n",
    "}\n",
    "\n",
    "# Train and evaluate each classifier\n",
    "for clf_name, classifier in classifiers.items():\n",
    "    classifier.fit(X_train_tfidf, y_train)\n",
    "    y_pred = classifier.predict(X_test_tfidf)\n",
    "\n",
    "    # Print the classification report\n",
    "    class_report = classification_report(y_test, y_pred)\n",
    "    print(f\"Classification Report for {clf_name}:\")\n",
    "    print(class_report)\n",
    "\n",
    "    # Calculate and print the accuracy score in percentage format\n",
    "    accuracy = accuracy_score(y_test, y_pred) * 100\n",
    "    print(f\"Accuracy Score for {clf_name}: {accuracy:.2f}%\\n\")"
   ]
  },
  {
   "cell_type": "markdown",
   "id": "5fe849fb",
   "metadata": {},
   "source": [
    "## CONFUSION MATRIX"
   ]
  },
  {
   "cell_type": "code",
   "execution_count": null,
   "id": "c87beccf",
   "metadata": {},
   "outputs": [],
   "source": [
    "# # Train a sentiment classifier \n",
    "# classifier = MultinomialNB()\n",
    "# classifier.fit(X_train_tfidf, y_train)\n",
    "\n",
    "# # Make predictions on the test set\n",
    "# y_pred = classifier.predict(X_test_tfidf)\n",
    "\n",
    "# # Calculate the confusion matrix\n",
    "# conf_matrix = confusion_matrix(y_test, y_pred)\n",
    "\n",
    "# # Print the confusion matrix\n",
    "# print(\"Confusion Matrix:\")\n",
    "# print(conf_matrix)\n",
    "\n",
    "# # Visualize the confusion matrix \n",
    "# plt.figure(figsize=(8, 6))\n",
    "# sns.heatmap(conf_matrix, annot=True, fmt='d', cmap=\"Blues\", xticklabels=['Negative', 'Positive'], yticklabels=['Negative', 'Positive'])\n",
    "# plt.xlabel('Predicted')\n",
    "# plt.ylabel('Actual')\n",
    "# plt.show()"
   ]
  },
  {
   "cell_type": "code",
   "execution_count": 39,
   "id": "4f084d16",
   "metadata": {},
   "outputs": [
    {
     "name": "stdout",
     "output_type": "stream",
     "text": [
      "Confusion Matrix for MultinomialNB Distribution:\n",
      "                 Predicted Negative  Predicted Positive\n",
      "Actual Negative                2153                 368\n",
      "Actual Positive                 357                2122\n"
     ]
    },
    {
     "data": {
      "image/png": "[encoded data removed]",
      "text/plain": [
       "<Figure size 600x400 with 2 Axes>"
      ]
     },
     "metadata": {},
     "output_type": "display_data"
    },
    {
     "name": "stdout",
     "output_type": "stream",
     "text": [
      "Confusion Matrix for LogisticRegression Distribution:\n",
      "                 Predicted Negative  Predicted Positive\n",
      "Actual Negative                2183                 338\n",
      "Actual Positive                 253                2226\n"
     ]
    },
    {
     "data": {
      "image/png": "[encoded data removed]",
      "text/plain": [
       "<Figure size 600x400 with 2 Axes>"
      ]
     },
     "metadata": {},
     "output_type": "display_data"
    },
    {
     "name": "stdout",
     "output_type": "stream",
     "text": [
      "Confusion Matrix for RandomForest Distribution:\n",
      "                 Predicted Negative  Predicted Positive\n",
      "Actual Negative                2129                 392\n",
      "Actual Positive                 402                2077\n"
     ]
    },
    {
     "data": {
      "image/png": "[encoded data removed]",
      "text/plain": [
       "<Figure size 600x400 with 2 Axes>"
      ]
     },
     "metadata": {},
     "output_type": "display_data"
    }
   ],
   "source": [
    "for clf_name, classifier in classifiers.items():\n",
    "    classifier.fit(X_train_tfidf, y_train)\n",
    "    y_pred = classifier.predict(X_test_tfidf)\n",
    "    \n",
    "    # Create the confusion matrix\n",
    "    cm = confusion_matrix(y_test, y_pred)\n",
    "\n",
    "    # Print the confusion matrix distribution\n",
    "    print(f\"Confusion Matrix for {clf_name} Distribution:\")\n",
    "    print(pd.DataFrame(cm, index=['Actual Negative', 'Actual Positive'], columns=['Predicted Negative', 'Predicted Positive']))\n",
    "\n",
    "    # Plot the confusion matrix as a heatmap\n",
    "    plt.figure(figsize=(6, 4))\n",
    "    sns.heatmap(cm, annot=True, fmt='d', cmap='Blues', xticklabels=['Negative', 'Positive'], yticklabels=['Negative', 'Positive'])\n",
    "    plt.title(f'Confusion Matrix for {clf_name}')\n",
    "    plt.xlabel('Predicted')\n",
    "    plt.ylabel('Actual')\n",
    "    plt.show()"
   ]
  },
  {
   "cell_type": "markdown",
   "id": "7ce4ed3e",
   "metadata": {},
   "source": [
    "## HYPERPARAMETER TUNING"
   ]
  },
  {
   "cell_type": "code",
   "execution_count": 41,
   "id": "ef39517c",
   "metadata": {},
   "outputs": [
    {
     "name": "stdout",
     "output_type": "stream",
     "text": [
      "Best Hyperparameters: {'C': 1, 'penalty': 'l2'}\n"
     ]
    },
    {
     "data": {
      "text/html": [
       "<style>#sk-container-id-1 {color: black;}#sk-container-id-1 pre{padding: 0;}#sk-container-id-1 div.sk-toggleable {background-color: white;}#sk-container-id-1 label.sk-toggleable__label {cursor: pointer;display: block;width: 100%;margin-bottom: 0;padding: 0.3em;box-sizing: border-box;text-align: center;}#sk-container-id-1 label.sk-toggleable__label-arrow:before {content: \"▸\";float: left;margin-right: 0.25em;color: #696969;}#sk-container-id-1 label.sk-toggleable__label-arrow:hover:before {color: black;}#sk-container-id-1 div.sk-estimator:hover label.sk-toggleable__label-arrow:before {color: black;}#sk-container-id-1 div.sk-toggleable__content {max-height: 0;max-width: 0;overflow: hidden;text-align: left;background-color: #f0f8ff;}#sk-container-id-1 div.sk-toggleable__content pre {margin: 0.2em;color: black;border-radius: 0.25em;background-color: #f0f8ff;}#sk-container-id-1 input.sk-toggleable__control:checked~div.sk-toggleable__content {max-height: 200px;max-width: 100%;overflow: auto;}#sk-container-id-1 input.sk-toggleable__control:checked~label.sk-toggleable__label-arrow:before {content: \"▾\";}#sk-container-id-1 div.sk-estimator input.sk-toggleable__control:checked~label.sk-toggleable__label {background-color: #d4ebff;}#sk-container-id-1 div.sk-label input.sk-toggleable__control:checked~label.sk-toggleable__label {background-color: #d4ebff;}#sk-container-id-1 input.sk-hidden--visually {border: 0;clip: rect(1px 1px 1px 1px);clip: rect(1px, 1px, 1px, 1px);height: 1px;margin: -1px;overflow: hidden;padding: 0;position: absolute;width: 1px;}#sk-container-id-1 div.sk-estimator {font-family: monospace;background-color: #f0f8ff;border: 1px dotted black;border-radius: 0.25em;box-sizing: border-box;margin-bottom: 0.5em;}#sk-container-id-1 div.sk-estimator:hover {background-color: #d4ebff;}#sk-container-id-1 div.sk-parallel-item::after {content: \"\";width: 100%;border-bottom: 1px solid gray;flex-grow: 1;}#sk-container-id-1 div.sk-label:hover label.sk-toggleable__label {background-color: #d4ebff;}#sk-container-id-1 div.sk-serial::before {content: \"\";position: absolute;border-left: 1px solid gray;box-sizing: border-box;top: 0;bottom: 0;left: 50%;z-index: 0;}#sk-container-id-1 div.sk-serial {display: flex;flex-direction: column;align-items: center;background-color: white;padding-right: 0.2em;padding-left: 0.2em;position: relative;}#sk-container-id-1 div.sk-item {position: relative;z-index: 1;}#sk-container-id-1 div.sk-parallel {display: flex;align-items: stretch;justify-content: center;background-color: white;position: relative;}#sk-container-id-1 div.sk-item::before, #sk-container-id-1 div.sk-parallel-item::before {content: \"\";position: absolute;border-left: 1px solid gray;box-sizing: border-box;top: 0;bottom: 0;left: 50%;z-index: -1;}#sk-container-id-1 div.sk-parallel-item {display: flex;flex-direction: column;z-index: 1;position: relative;background-color: white;}#sk-container-id-1 div.sk-parallel-item:first-child::after {align-self: flex-end;width: 50%;}#sk-container-id-1 div.sk-parallel-item:last-child::after {align-self: flex-start;width: 50%;}#sk-container-id-1 div.sk-parallel-item:only-child::after {width: 0;}#sk-container-id-1 div.sk-dashed-wrapped {border: 1px dashed gray;margin: 0 0.4em 0.5em 0.4em;box-sizing: border-box;padding-bottom: 0.4em;background-color: white;}#sk-container-id-1 div.sk-label label {font-family: monospace;font-weight: bold;display: inline-block;line-height: 1.2em;}#sk-container-id-1 div.sk-label-container {text-align: center;}#sk-container-id-1 div.sk-container {/* jupyter's `normalize.less` sets `[hidden] { display: none; }` but bootstrap.min.css set `[hidden] { display: none !important; }` so we also need the `!important` here to be able to override the default hidden behavior on the sphinx rendered scikit-learn.org. See: https://github.com/scikit-learn/scikit-learn/issues/21755 */display: inline-block !important;position: relative;}#sk-container-id-1 div.sk-text-repr-fallback {display: none;}</style><div id=\"sk-container-id-1\" class=\"sk-top-container\"><div class=\"sk-text-repr-fallback\"><pre>LogisticRegression(C=1, max_iter=1000, solver=&#x27;liblinear&#x27;)</pre><b>In a Jupyter environment, please rerun this cell to show the HTML representation or trust the notebook. <br />On GitHub, the HTML representation is unable to render, please try loading this page with nbviewer.org.</b></div><div class=\"sk-container\" hidden><div class=\"sk-item\"><div class=\"sk-estimator sk-toggleable\"><input class=\"sk-toggleable__control sk-hidden--visually\" id=\"sk-estimator-id-1\" type=\"checkbox\" checked><label for=\"sk-estimator-id-1\" class=\"sk-toggleable__label sk-toggleable__label-arrow\">LogisticRegression</label><div class=\"sk-toggleable__content\"><pre>LogisticRegression(C=1, max_iter=1000, solver=&#x27;liblinear&#x27;)</pre></div></div></div></div></div>"
      ],
      "text/plain": [
       "LogisticRegression(C=1, max_iter=1000, solver='liblinear')"
      ]
     },
     "execution_count": 41,
     "metadata": {},
     "output_type": "execute_result"
    }
   ],
   "source": [
    "from sklearn.model_selection import GridSearchCV\n",
    "\n",
    "# Define the hyperparameter grid\n",
    "param_grid = {\n",
    "    'C': [0.001, 0.01, 0.1, 1, 10, 100],  # Regularization strength\n",
    "    'penalty': ['l1', 'l2']  # Regularization type\n",
    "}\n",
    "\n",
    "# Create the logistic regression model with random state\n",
    "logistic_classifier = LogisticRegression(solver='liblinear', max_iter=1000, random_state=42)\n",
    "\n",
    "# Create the GridSearchCV object\n",
    "grid_search = GridSearchCV(logistic_classifier, param_grid, cv=5, scoring='accuracy')\n",
    "\n",
    "# Perform grid search\n",
    "grid_search.fit(X_train_tfidf, y_train)\n",
    "\n",
    "# Get the best hyperparameters\n",
    "best_params = grid_search.best_params_\n",
    "print(\"Best Hyperparameters:\", best_params)\n",
    "\n",
    "# Train the final model with the best hyperparameters\n",
    "best_classifier = LogisticRegression(solver='liblinear', max_iter=1000, **best_params)\n",
    "best_classifier.fit(X_train_tfidf, y_train)"
   ]
  },
  {
   "cell_type": "code",
   "execution_count": 42,
   "id": "6c645e5a",
   "metadata": {},
   "outputs": [
    {
     "name": "stdout",
     "output_type": "stream",
     "text": [
      "Accuracy Score after Hyperparameter Tuning: 0.88\n"
     ]
    }
   ],
   "source": [
    "from sklearn.metrics import accuracy_score\n",
    "\n",
    "# Make predictions on the test set using the tuned model\n",
    "y_pred = best_classifier.predict(X_test_tfidf)\n",
    "\n",
    "# Calculate and print the accuracy score\n",
    "accuracy = accuracy_score(y_test, y_pred)\n",
    "print(f\"Accuracy Score after Hyperparameter Tuning: {accuracy:.2f}\")\n"
   ]
  },
  {
   "cell_type": "code",
   "execution_count": 43,
   "id": "c412a8c6",
   "metadata": {},
   "outputs": [],
   "source": [
    "# Create a dictionary to store the components and model\n",
    "components_dict = {\n",
    "    'cleaner': process_text,\n",
    "    'cleaner_tfidf_vectorizer': tfidf_vectorizer,\n",
    "    'cleaner_classifier': best_classifier\n",
    "}"
   ]
  },
  {
   "cell_type": "code",
   "execution_count": 44,
   "id": "a5ee0417",
   "metadata": {},
   "outputs": [],
   "source": [
    "# Create a folder to store the exported data\n",
    "folder_name = 'comp_folder'\n",
    "os.makedirs(folder_name, exist_ok=True)"
   ]
  },
  {
   "cell_type": "code",
   "execution_count": 45,
   "id": "13fff7d0",
   "metadata": {},
   "outputs": [],
   "source": [
    "# Export the components and model\n",
    "components_path = os.path.join(folder_name, 'sentiment_components.pkl')\n",
    "with open(components_path, 'wb') as file:\n",
    "    pickle.dump(components_dict, file)"
   ]
  },
  {
   "cell_type": "code",
   "execution_count": 46,
   "id": "7a765a55",
   "metadata": {},
   "outputs": [
    {
     "data": {
      "text/plain": [
       "0"
      ]
     },
     "execution_count": 46,
     "metadata": {},
     "output_type": "execute_result"
    }
   ],
   "source": [
    "# Generate the requirements.txt file\n",
    "requirements_file = 'requirements.txt'\n",
    "os.system(f'pip freeze > {os.path.join(folder_name, requirements_file)}')"
   ]
  },
  {
   "cell_type": "code",
   "execution_count": 47,
   "id": "6d0615c7",
   "metadata": {},
   "outputs": [
    {
     "name": "stdout",
     "output_type": "stream",
     "text": [
      "Exported data has been zipped.\n"
     ]
    }
   ],
   "source": [
    "# Zip the exported data folder\n",
    "shutil.make_archive('exported_data', 'zip', 'exported_comp_folder')\n",
    "\n",
    "print(\"Exported data has been zipped.\")"
   ]
  },
  {
   "cell_type": "markdown",
   "id": "fba64acb",
   "metadata": {},
   "source": [
    "### Test Data"
   ]
  },
  {
   "cell_type": "code",
   "execution_count": 48,
   "id": "2a21fb80",
   "metadata": {},
   "outputs": [],
   "source": [
    "# Load the exported components from the file\n",
    "components_path = 'comp_folder/sentiment_components.pkl'\n",
    "with open(components_path, 'rb') as file:\n",
    "    components_dict = pickle.load(file)"
   ]
  },
  {
   "cell_type": "code",
   "execution_count": 49,
   "id": "380f738f",
   "metadata": {},
   "outputs": [],
   "source": [
    "# Extract the loaded components\n",
    "loaded_cleaner = components_dict['cleaner']\n",
    "loaded_vectorizer = components_dict['cleaner_tfidf_vectorizer']\n",
    "loaded_classifier = components_dict['cleaner_classifier']"
   ]
  },
  {
   "cell_type": "code",
   "execution_count": 50,
   "id": "a6cb6095",
   "metadata": {},
   "outputs": [
    {
     "data": {
      "text/html": [
       "<div>\n",
       "<style scoped>\n",
       "    .dataframe tbody tr th:only-of-type {\n",
       "        vertical-align: middle;\n",
       "    }\n",
       "\n",
       "    .dataframe tbody tr th {\n",
       "        vertical-align: top;\n",
       "    }\n",
       "\n",
       "    .dataframe thead th {\n",
       "        text-align: right;\n",
       "    }\n",
       "</style>\n",
       "<table border=\"1\" class=\"dataframe\">\n",
       "  <thead>\n",
       "    <tr style=\"text-align: right;\">\n",
       "      <th></th>\n",
       "      <th>review_file</th>\n",
       "      <th>content</th>\n",
       "    </tr>\n",
       "  </thead>\n",
       "  <tbody>\n",
       "    <tr>\n",
       "      <th>0</th>\n",
       "      <td>0_10.txt</td>\n",
       "      <td>I went and saw this movie last night after bei...</td>\n",
       "    </tr>\n",
       "    <tr>\n",
       "      <th>1</th>\n",
       "      <td>0_2.txt</td>\n",
       "      <td>Once again Mr. Costner has dragged out a movie...</td>\n",
       "    </tr>\n",
       "    <tr>\n",
       "      <th>2</th>\n",
       "      <td>10000_4.txt</td>\n",
       "      <td>This is an example of why the majority of acti...</td>\n",
       "    </tr>\n",
       "    <tr>\n",
       "      <th>3</th>\n",
       "      <td>10000_7.txt</td>\n",
       "      <td>Actor turned director Bill Paxton follows up h...</td>\n",
       "    </tr>\n",
       "    <tr>\n",
       "      <th>4</th>\n",
       "      <td>10001_1.txt</td>\n",
       "      <td>First of all I hate those moronic rappers, who...</td>\n",
       "    </tr>\n",
       "    <tr>\n",
       "      <th>...</th>\n",
       "      <td>...</td>\n",
       "      <td>...</td>\n",
       "    </tr>\n",
       "    <tr>\n",
       "      <th>24995</th>\n",
       "      <td>999_8.txt</td>\n",
       "      <td>From the start of \"The Edge Of Love\", the view...</td>\n",
       "    </tr>\n",
       "    <tr>\n",
       "      <th>24996</th>\n",
       "      <td>99_10.txt</td>\n",
       "      <td>This movie, with all its complexity and subtle...</td>\n",
       "    </tr>\n",
       "    <tr>\n",
       "      <th>24997</th>\n",
       "      <td>99_3.txt</td>\n",
       "      <td>Four things intrigued me as to this film - fir...</td>\n",
       "    </tr>\n",
       "    <tr>\n",
       "      <th>24998</th>\n",
       "      <td>9_4.txt</td>\n",
       "      <td>David Bryce's comments nearby are exceptionall...</td>\n",
       "    </tr>\n",
       "    <tr>\n",
       "      <th>24999</th>\n",
       "      <td>9_7.txt</td>\n",
       "      <td>I've seen this story before but my kids haven'...</td>\n",
       "    </tr>\n",
       "  </tbody>\n",
       "</table>\n",
       "<p>25000 rows × 2 columns</p>\n",
       "</div>"
      ],
      "text/plain": [
       "       review_file                                            content\n",
       "0         0_10.txt  I went and saw this movie last night after bei...\n",
       "1          0_2.txt  Once again Mr. Costner has dragged out a movie...\n",
       "2      10000_4.txt  This is an example of why the majority of acti...\n",
       "3      10000_7.txt  Actor turned director Bill Paxton follows up h...\n",
       "4      10001_1.txt  First of all I hate those moronic rappers, who...\n",
       "...            ...                                                ...\n",
       "24995    999_8.txt  From the start of \"The Edge Of Love\", the view...\n",
       "24996    99_10.txt  This movie, with all its complexity and subtle...\n",
       "24997     99_3.txt  Four things intrigued me as to this film - fir...\n",
       "24998      9_4.txt  David Bryce's comments nearby are exceptionall...\n",
       "24999      9_7.txt  I've seen this story before but my kids haven'...\n",
       "\n",
       "[25000 rows x 2 columns]"
      ]
     },
     "execution_count": 50,
     "metadata": {},
     "output_type": "execute_result"
    }
   ],
   "source": [
    "# Load the new data from a CSV file\n",
    "data1"
   ]
  },
  {
   "cell_type": "code",
   "execution_count": 51,
   "id": "256cd44c",
   "metadata": {},
   "outputs": [],
   "source": [
    "data1.rename(columns={'content': 'review'}, inplace=True)"
   ]
  },
  {
   "cell_type": "code",
   "execution_count": 52,
   "id": "176330b4",
   "metadata": {},
   "outputs": [],
   "source": [
    "files = data1['review_file'].copy()"
   ]
  },
  {
   "cell_type": "code",
   "execution_count": 53,
   "id": "d86daf75",
   "metadata": {},
   "outputs": [],
   "source": [
    "data1.drop('review_file', axis=1, inplace=True)"
   ]
  },
  {
   "cell_type": "code",
   "execution_count": 54,
   "id": "e827faff",
   "metadata": {},
   "outputs": [],
   "source": [
    "data1['review'] = data1['review'].apply(lambda text: text.strip().lower())"
   ]
  },
  {
   "cell_type": "code",
   "execution_count": 55,
   "id": "c0aa00a8",
   "metadata": {},
   "outputs": [],
   "source": [
    "# Apply text cleaning to the new data\n",
    "data1['review'] = data1['review'].apply(loaded_cleaner)\n",
    "\n",
    "# Vectorize the new data using the loaded vectorizer\n",
    "X_new_tfidf = loaded_vectorizer.transform(data1['review'])\n",
    "\n",
    "# Make predictions on the new data\n",
    "new_predictions = loaded_classifier.predict(X_new_tfidf)"
   ]
  },
  {
   "cell_type": "code",
   "execution_count": 56,
   "id": "4115707e",
   "metadata": {},
   "outputs": [],
   "source": [
    "# Add the \"review_file\" column back to the data1 DataFrame\n",
    "data1['review_file'] = files\n",
    "\n",
    "# Add the predictions to the new_data DataFrame\n",
    "data1['predicted_sentiment'] = new_predictions"
   ]
  },
  {
   "cell_type": "code",
   "execution_count": 57,
   "id": "f65e89a9",
   "metadata": {},
   "outputs": [],
   "source": [
    "# Create a new DataFrame with only \"review_file\" and \"predicted_sentiment\" columns\n",
    "prediction = data1[['review_file', 'predicted_sentiment']]"
   ]
  },
  {
   "cell_type": "code",
   "execution_count": 58,
   "id": "54831dd4",
   "metadata": {},
   "outputs": [
    {
     "data": {
      "text/html": [
       "<div>\n",
       "<style scoped>\n",
       "    .dataframe tbody tr th:only-of-type {\n",
       "        vertical-align: middle;\n",
       "    }\n",
       "\n",
       "    .dataframe tbody tr th {\n",
       "        vertical-align: top;\n",
       "    }\n",
       "\n",
       "    .dataframe thead th {\n",
       "        text-align: right;\n",
       "    }\n",
       "</style>\n",
       "<table border=\"1\" class=\"dataframe\">\n",
       "  <thead>\n",
       "    <tr style=\"text-align: right;\">\n",
       "      <th></th>\n",
       "      <th>review</th>\n",
       "      <th>review_file</th>\n",
       "      <th>predicted_sentiment</th>\n",
       "    </tr>\n",
       "  </thead>\n",
       "  <tbody>\n",
       "    <tr>\n",
       "      <th>0</th>\n",
       "      <td>went saw movie night coaxed friends admit relu...</td>\n",
       "      <td>0_10.txt</td>\n",
       "      <td>positive</td>\n",
       "    </tr>\n",
       "    <tr>\n",
       "      <th>1</th>\n",
       "      <td>mr costner dragged movie far longer necessary ...</td>\n",
       "      <td>0_2.txt</td>\n",
       "      <td>negative</td>\n",
       "    </tr>\n",
       "    <tr>\n",
       "      <th>2</th>\n",
       "      <td>example majority action films generic boring w...</td>\n",
       "      <td>10000_4.txt</td>\n",
       "      <td>negative</td>\n",
       "    </tr>\n",
       "    <tr>\n",
       "      <th>3</th>\n",
       "      <td>actor turned director bill paxton follows prom...</td>\n",
       "      <td>10000_7.txt</td>\n",
       "      <td>positive</td>\n",
       "    </tr>\n",
       "    <tr>\n",
       "      <th>4</th>\n",
       "      <td>hate moronic rappers could'nt act gun pressed ...</td>\n",
       "      <td>10001_1.txt</td>\n",
       "      <td>negative</td>\n",
       "    </tr>\n",
       "    <tr>\n",
       "      <th>...</th>\n",
       "      <td>...</td>\n",
       "      <td>...</td>\n",
       "      <td>...</td>\n",
       "    </tr>\n",
       "    <tr>\n",
       "      <th>24995</th>\n",
       "      <td>start edge love viewer transported striking wo...</td>\n",
       "      <td>999_8.txt</td>\n",
       "      <td>positive</td>\n",
       "    </tr>\n",
       "    <tr>\n",
       "      <th>24996</th>\n",
       "      <td>movie complexity subtlety makes thought provok...</td>\n",
       "      <td>99_10.txt</td>\n",
       "      <td>positive</td>\n",
       "    </tr>\n",
       "    <tr>\n",
       "      <th>24997</th>\n",
       "      <td>things intrigued film firstly stars carly pope...</td>\n",
       "      <td>99_3.txt</td>\n",
       "      <td>negative</td>\n",
       "    </tr>\n",
       "    <tr>\n",
       "      <th>24998</th>\n",
       "      <td>david bryce comments nearby exceptionally writ...</td>\n",
       "      <td>9_4.txt</td>\n",
       "      <td>positive</td>\n",
       "    </tr>\n",
       "    <tr>\n",
       "      <th>24999</th>\n",
       "      <td>seen story kids boy troubled past joins milita...</td>\n",
       "      <td>9_7.txt</td>\n",
       "      <td>positive</td>\n",
       "    </tr>\n",
       "  </tbody>\n",
       "</table>\n",
       "<p>25000 rows × 3 columns</p>\n",
       "</div>"
      ],
      "text/plain": [
       "                                                  review  review_file  \\\n",
       "0      went saw movie night coaxed friends admit relu...     0_10.txt   \n",
       "1      mr costner dragged movie far longer necessary ...      0_2.txt   \n",
       "2      example majority action films generic boring w...  10000_4.txt   \n",
       "3      actor turned director bill paxton follows prom...  10000_7.txt   \n",
       "4      hate moronic rappers could'nt act gun pressed ...  10001_1.txt   \n",
       "...                                                  ...          ...   \n",
       "24995  start edge love viewer transported striking wo...    999_8.txt   \n",
       "24996  movie complexity subtlety makes thought provok...    99_10.txt   \n",
       "24997  things intrigued film firstly stars carly pope...     99_3.txt   \n",
       "24998  david bryce comments nearby exceptionally writ...      9_4.txt   \n",
       "24999  seen story kids boy troubled past joins milita...      9_7.txt   \n",
       "\n",
       "      predicted_sentiment  \n",
       "0                positive  \n",
       "1                negative  \n",
       "2                negative  \n",
       "3                positive  \n",
       "4                negative  \n",
       "...                   ...  \n",
       "24995            positive  \n",
       "24996            positive  \n",
       "24997            negative  \n",
       "24998            positive  \n",
       "24999            positive  \n",
       "\n",
       "[25000 rows x 3 columns]"
      ]
     },
     "execution_count": 58,
     "metadata": {},
     "output_type": "execute_result"
    }
   ],
   "source": [
    "data1"
   ]
  },
  {
   "cell_type": "code",
   "execution_count": 59,
   "id": "051aed01",
   "metadata": {},
   "outputs": [
    {
     "data": {
      "text/html": [
       "<div>\n",
       "<style scoped>\n",
       "    .dataframe tbody tr th:only-of-type {\n",
       "        vertical-align: middle;\n",
       "    }\n",
       "\n",
       "    .dataframe tbody tr th {\n",
       "        vertical-align: top;\n",
       "    }\n",
       "\n",
       "    .dataframe thead th {\n",
       "        text-align: right;\n",
       "    }\n",
       "</style>\n",
       "<table border=\"1\" class=\"dataframe\">\n",
       "  <thead>\n",
       "    <tr style=\"text-align: right;\">\n",
       "      <th></th>\n",
       "      <th>review_file</th>\n",
       "      <th>predicted_sentiment</th>\n",
       "    </tr>\n",
       "  </thead>\n",
       "  <tbody>\n",
       "    <tr>\n",
       "      <th>0</th>\n",
       "      <td>0_10.txt</td>\n",
       "      <td>positive</td>\n",
       "    </tr>\n",
       "    <tr>\n",
       "      <th>1</th>\n",
       "      <td>0_2.txt</td>\n",
       "      <td>negative</td>\n",
       "    </tr>\n",
       "    <tr>\n",
       "      <th>2</th>\n",
       "      <td>10000_4.txt</td>\n",
       "      <td>negative</td>\n",
       "    </tr>\n",
       "    <tr>\n",
       "      <th>3</th>\n",
       "      <td>10000_7.txt</td>\n",
       "      <td>positive</td>\n",
       "    </tr>\n",
       "    <tr>\n",
       "      <th>4</th>\n",
       "      <td>10001_1.txt</td>\n",
       "      <td>negative</td>\n",
       "    </tr>\n",
       "    <tr>\n",
       "      <th>...</th>\n",
       "      <td>...</td>\n",
       "      <td>...</td>\n",
       "    </tr>\n",
       "    <tr>\n",
       "      <th>24995</th>\n",
       "      <td>999_8.txt</td>\n",
       "      <td>positive</td>\n",
       "    </tr>\n",
       "    <tr>\n",
       "      <th>24996</th>\n",
       "      <td>99_10.txt</td>\n",
       "      <td>positive</td>\n",
       "    </tr>\n",
       "    <tr>\n",
       "      <th>24997</th>\n",
       "      <td>99_3.txt</td>\n",
       "      <td>negative</td>\n",
       "    </tr>\n",
       "    <tr>\n",
       "      <th>24998</th>\n",
       "      <td>9_4.txt</td>\n",
       "      <td>positive</td>\n",
       "    </tr>\n",
       "    <tr>\n",
       "      <th>24999</th>\n",
       "      <td>9_7.txt</td>\n",
       "      <td>positive</td>\n",
       "    </tr>\n",
       "  </tbody>\n",
       "</table>\n",
       "<p>25000 rows × 2 columns</p>\n",
       "</div>"
      ],
      "text/plain": [
       "       review_file predicted_sentiment\n",
       "0         0_10.txt            positive\n",
       "1          0_2.txt            negative\n",
       "2      10000_4.txt            negative\n",
       "3      10000_7.txt            positive\n",
       "4      10001_1.txt            negative\n",
       "...            ...                 ...\n",
       "24995    999_8.txt            positive\n",
       "24996    99_10.txt            positive\n",
       "24997     99_3.txt            negative\n",
       "24998      9_4.txt            positive\n",
       "24999      9_7.txt            positive\n",
       "\n",
       "[25000 rows x 2 columns]"
      ]
     },
     "execution_count": 59,
     "metadata": {},
     "output_type": "execute_result"
    }
   ],
   "source": [
    "prediction"
   ]
  },
  {
   "cell_type": "code",
   "execution_count": 60,
   "id": "a498adfe",
   "metadata": {},
   "outputs": [
    {
     "name": "stdout",
     "output_type": "stream",
     "text": [
      "positive    12627\n",
      "negative    12373\n",
      "Name: predicted_sentiment, dtype: int64\n"
     ]
    }
   ],
   "source": [
    "# Count the occurrences of \"Positive\" and \"Negative\" in the predictions\n",
    "count = prediction['predicted_sentiment'].value_counts()\n",
    "\n",
    "print(count)"
   ]
  },
  {
   "cell_type": "code",
   "execution_count": 61,
   "id": "d38249d3",
   "metadata": {},
   "outputs": [],
   "source": [
    "# Save the Predictions\n",
    "prediction.to_csv('predicted_sentiment_results.csv', index=False)"
   ]
  },
  {
   "cell_type": "code",
   "execution_count": 62,
   "id": "3faae0cb",
   "metadata": {},
   "outputs": [
    {
     "name": "stdout",
     "output_type": "stream",
     "text": [
      "Name: spacy\n",
      "Version: 3.7.2\n",
      "Summary: Industrial-strength Natural Language Processing (NLP) in Python\n",
      "Home-page: https://spacy.io\n",
      "Author: Explosion\n",
      "Author-email: contact@explosion.ai\n",
      "License: MIT\n",
      "Location: c:\\my programs\\lib\\site-packages\n",
      "Requires: catalogue, cymem, jinja2, langcodes, murmurhash, numpy, packaging, preshed, pydantic, requests, setuptools, smart-open, spacy-legacy, spacy-loggers, srsly, thinc, tqdm, typer, wasabi, weasel\n",
      "Required-by: en-core-web-sm\n"
     ]
    }
   ],
   "source": [
    "!pip show spacy"
   ]
  },
  {
   "cell_type": "code",
   "execution_count": null,
   "id": "a2758d1b",
   "metadata": {},
   "outputs": [
    {
     "name": "stdout",
     "output_type": "stream",
     "text": [
      "Running on local URL:  http://127.0.0.1:7860\n",
      "\n",
      "To create a public link, set `share=True` in `launch()`.\n"
     ]
    },
    {
     "data": {
      "text/html": [
       "<div><iframe src=\"http://127.0.0.1:7860/\" width=\"100%\" height=\"500\" allow=\"autoplay; camera; microphone; clipboard-read; clipboard-write;\" frameborder=\"0\" allowfullscreen></iframe></div>"
      ],
      "text/plain": [
       "<IPython.core.display.HTML object>"
      ]
     },
     "metadata": {},
     "output_type": "display_data"
    }
   ],
   "source": [
    "import gradio as gr\n",
    "import joblib\n",
    "import pickle\n",
    "# from text_preprocessing import process_text\n",
    "\n",
    "\n",
    "# Load the exported components\n",
    "components_path = r'src\\assets\\ML\\sentiment_components.pkl'\n",
    "with open(components_path, 'rb') as file:\n",
    "    components_dict = pickle.load(file)\n",
    "\n",
    "\n",
    "loaded_cleaner = components_dict['cleaner']\n",
    "loaded_vectorizer = components_dict['cleaner_tfidf_vectorizer']\n",
    "loaded_classifier = components_dict['cleaner_classifier']\n",
    "\n",
    "def sent_analysis(text):\n",
    "    # Preprocess the input text using the loaded cleaner\n",
    "    text = loaded_cleaner(text)\n",
    "    \n",
    "    # Vectorize the text using the loaded vectorizer\n",
    "    X_tfidf = loaded_vectorizer.transform([text])\n",
    "    \n",
    "    # Make predictions using the loaded classifier\n",
    "    prediction = loaded_classifier.predict(X_tfidf)[0]\n",
    "    \n",
    "    # Return the predicted sentiment label\n",
    "    return prediction\n",
    "\n",
    "# Create a Gradio interface\n",
    "demo = gr.Interface(\n",
    "    fn=sent_analysis,\n",
    "    inputs=gr.Textbox(placeholder=\"Enter a movie review...\"),\n",
    "    outputs=\"label\",\n",
    "    interpretation=\"default\",\n",
    "    examples=[\n",
    "        [\"I loved the movie! It was fantastic.\"],\n",
    "        [\"The acting was terrible, and the plot was boring.\"],\n",
    "        [\"This film is just okay. Not great, not terrible.\"],\n",
    "    ],\n",
    "    title=\"Movie Review Sentiment Analysis\",\n",
    "    description=\"An AI model that predicts sentiment in movie reviews, providing labels for 'NEGATIVE' and 'POSITIVE' sentiments.\",\n",
    "    theme=\"default\",\n",
    "    live=True,\n",
    ")\n",
    "\n",
    "\n",
    "if __name__ == \"__main__\":\n",
    "    demo.launch()\n",
    "    \n",
    "!python src/app.py"
   ]
  },
  {
   "cell_type": "code",
   "execution_count": null,
   "id": "dabdd60f",
   "metadata": {},
   "outputs": [],
   "source": []
  }
 ],
 "metadata": {
  "kernelspec": {
   "display_name": "Python 3 (ipykernel)",
   "language": "python",
   "name": "python3"
  },
  "language_info": {
   "codemirror_mode": {
    "name": "ipython",
    "version": 3
   },
   "file_extension": ".py",
   "mimetype": "text/x-python",
   "name": "python",
   "nbconvert_exporter": "python",
   "pygments_lexer": "ipython3",
   "version": "3.10.9"
  }
 },
 "nbformat": 4,
 "nbformat_minor": 5
}
